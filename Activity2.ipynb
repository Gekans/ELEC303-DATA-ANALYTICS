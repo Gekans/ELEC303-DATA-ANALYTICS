{
 "cells": [
  {
   "cell_type": "code",
   "execution_count": 48,
   "id": "530ee834-8fd0-4dd6-8231-d40b7e3b5dee",
   "metadata": {},
   "outputs": [],
   "source": [
    "import numpy as np\n",
    "import pandas as pd\n",
    "import warnings\n",
    "warnings.filterwarnings('ignore')"
   ]
  },
  {
   "cell_type": "code",
   "execution_count": 49,
   "id": "662b24cd-2a25-4a20-9c30-13170e983063",
   "metadata": {},
   "outputs": [],
   "source": [
    "accd = pd.read_csv('datasets\\\\accident_data.csv')"
   ]
  },
  {
   "cell_type": "code",
   "execution_count": 50,
   "id": "ead1074b-18b8-406c-9e1f-309bb38689a4",
   "metadata": {},
   "outputs": [
    {
     "data": {
      "text/html": [
       "<div>\n",
       "<style scoped>\n",
       "    .dataframe tbody tr th:only-of-type {\n",
       "        vertical-align: middle;\n",
       "    }\n",
       "\n",
       "    .dataframe tbody tr th {\n",
       "        vertical-align: top;\n",
       "    }\n",
       "\n",
       "    .dataframe thead th {\n",
       "        text-align: right;\n",
       "    }\n",
       "</style>\n",
       "<table border=\"1\" class=\"dataframe\">\n",
       "  <thead>\n",
       "    <tr style=\"text-align: right;\">\n",
       "      <th></th>\n",
       "      <th>Index</th>\n",
       "      <th>Accident_Severity</th>\n",
       "      <th>Accident Date</th>\n",
       "      <th>Latitude</th>\n",
       "      <th>Light_Conditions</th>\n",
       "      <th>District Area</th>\n",
       "      <th>Longitude</th>\n",
       "      <th>Number_of_Casualties</th>\n",
       "      <th>Number_of_Vehicles</th>\n",
       "      <th>Road_Surface_Conditions</th>\n",
       "      <th>Road_Type</th>\n",
       "      <th>Urban_or_Rural_Area</th>\n",
       "      <th>Weather_Conditions</th>\n",
       "      <th>Vehicle_Type</th>\n",
       "    </tr>\n",
       "  </thead>\n",
       "  <tbody>\n",
       "    <tr>\n",
       "      <th>0</th>\n",
       "      <td>200701BS64157</td>\n",
       "      <td>Serious</td>\n",
       "      <td>5/6/2019</td>\n",
       "      <td>51.506187</td>\n",
       "      <td>Darkness - lights lit</td>\n",
       "      <td>Kensington and Chelsea</td>\n",
       "      <td>-0.209082</td>\n",
       "      <td>1</td>\n",
       "      <td>2</td>\n",
       "      <td>Dry</td>\n",
       "      <td>Single carriageway</td>\n",
       "      <td>Urban</td>\n",
       "      <td>Fine no high winds</td>\n",
       "      <td>Car</td>\n",
       "    </tr>\n",
       "    <tr>\n",
       "      <th>1</th>\n",
       "      <td>200701BS65737</td>\n",
       "      <td>Serious</td>\n",
       "      <td>2/7/2019</td>\n",
       "      <td>51.495029</td>\n",
       "      <td>Daylight</td>\n",
       "      <td>Kensington and Chelsea</td>\n",
       "      <td>-0.173647</td>\n",
       "      <td>1</td>\n",
       "      <td>2</td>\n",
       "      <td>Wet or damp</td>\n",
       "      <td>Single carriageway</td>\n",
       "      <td>Urban</td>\n",
       "      <td>Raining no high winds</td>\n",
       "      <td>Car</td>\n",
       "    </tr>\n",
       "    <tr>\n",
       "      <th>2</th>\n",
       "      <td>200701BS66127</td>\n",
       "      <td>Serious</td>\n",
       "      <td>26-08-2019</td>\n",
       "      <td>51.517715</td>\n",
       "      <td>Darkness - lighting unknown</td>\n",
       "      <td>Kensington and Chelsea</td>\n",
       "      <td>-0.210215</td>\n",
       "      <td>1</td>\n",
       "      <td>3</td>\n",
       "      <td>Dry</td>\n",
       "      <td>NaN</td>\n",
       "      <td>Urban</td>\n",
       "      <td>NaN</td>\n",
       "      <td>Taxi/Private hire car</td>\n",
       "    </tr>\n",
       "    <tr>\n",
       "      <th>3</th>\n",
       "      <td>200701BS66128</td>\n",
       "      <td>Serious</td>\n",
       "      <td>16-08-2019</td>\n",
       "      <td>51.495478</td>\n",
       "      <td>Daylight</td>\n",
       "      <td>Kensington and Chelsea</td>\n",
       "      <td>-0.202731</td>\n",
       "      <td>1</td>\n",
       "      <td>4</td>\n",
       "      <td>Dry</td>\n",
       "      <td>Single carriageway</td>\n",
       "      <td>Urban</td>\n",
       "      <td>Fine no high winds</td>\n",
       "      <td>Bus or coach (17 or more pass seats)</td>\n",
       "    </tr>\n",
       "    <tr>\n",
       "      <th>4</th>\n",
       "      <td>200701BS66837</td>\n",
       "      <td>Slight</td>\n",
       "      <td>3/9/2019</td>\n",
       "      <td>51.488576</td>\n",
       "      <td>Darkness - lights lit</td>\n",
       "      <td>Kensington and Chelsea</td>\n",
       "      <td>-0.192487</td>\n",
       "      <td>1</td>\n",
       "      <td>2</td>\n",
       "      <td>Dry</td>\n",
       "      <td>NaN</td>\n",
       "      <td>Urban</td>\n",
       "      <td>NaN</td>\n",
       "      <td>Other vehicle</td>\n",
       "    </tr>\n",
       "    <tr>\n",
       "      <th>...</th>\n",
       "      <td>...</td>\n",
       "      <td>...</td>\n",
       "      <td>...</td>\n",
       "      <td>...</td>\n",
       "      <td>...</td>\n",
       "      <td>...</td>\n",
       "      <td>...</td>\n",
       "      <td>...</td>\n",
       "      <td>...</td>\n",
       "      <td>...</td>\n",
       "      <td>...</td>\n",
       "      <td>...</td>\n",
       "      <td>...</td>\n",
       "      <td>...</td>\n",
       "    </tr>\n",
       "    <tr>\n",
       "      <th>660674</th>\n",
       "      <td>201091NM01760</td>\n",
       "      <td>Slight</td>\n",
       "      <td>18-02-2022</td>\n",
       "      <td>57.374005</td>\n",
       "      <td>Daylight</td>\n",
       "      <td>Highland</td>\n",
       "      <td>-3.467828</td>\n",
       "      <td>2</td>\n",
       "      <td>1</td>\n",
       "      <td>Dry</td>\n",
       "      <td>Single carriageway</td>\n",
       "      <td>Rural</td>\n",
       "      <td>Fine no high winds</td>\n",
       "      <td>Car</td>\n",
       "    </tr>\n",
       "    <tr>\n",
       "      <th>660675</th>\n",
       "      <td>201091NM01881</td>\n",
       "      <td>Slight</td>\n",
       "      <td>21-02-2022</td>\n",
       "      <td>57.232273</td>\n",
       "      <td>Darkness - no lighting</td>\n",
       "      <td>Highland</td>\n",
       "      <td>-3.809281</td>\n",
       "      <td>1</td>\n",
       "      <td>1</td>\n",
       "      <td>Frost or ice</td>\n",
       "      <td>Single carriageway</td>\n",
       "      <td>Rural</td>\n",
       "      <td>Fine no high winds</td>\n",
       "      <td>Car</td>\n",
       "    </tr>\n",
       "    <tr>\n",
       "      <th>660676</th>\n",
       "      <td>201091NM01935</td>\n",
       "      <td>Slight</td>\n",
       "      <td>23-02-2022</td>\n",
       "      <td>57.585044</td>\n",
       "      <td>Daylight</td>\n",
       "      <td>Highland</td>\n",
       "      <td>-3.862727</td>\n",
       "      <td>1</td>\n",
       "      <td>3</td>\n",
       "      <td>Frost or ice</td>\n",
       "      <td>Single carriageway</td>\n",
       "      <td>Rural</td>\n",
       "      <td>Fine no high winds</td>\n",
       "      <td>Car</td>\n",
       "    </tr>\n",
       "    <tr>\n",
       "      <th>660677</th>\n",
       "      <td>201091NM01964</td>\n",
       "      <td>Serious</td>\n",
       "      <td>23-02-2022</td>\n",
       "      <td>57.214898</td>\n",
       "      <td>Darkness - no lighting</td>\n",
       "      <td>Highland</td>\n",
       "      <td>-3.823997</td>\n",
       "      <td>1</td>\n",
       "      <td>2</td>\n",
       "      <td>Wet or damp</td>\n",
       "      <td>Single carriageway</td>\n",
       "      <td>Rural</td>\n",
       "      <td>Fine no high winds</td>\n",
       "      <td>Motorcycle over 500cc</td>\n",
       "    </tr>\n",
       "    <tr>\n",
       "      <th>660678</th>\n",
       "      <td>201091NM02142</td>\n",
       "      <td>Serious</td>\n",
       "      <td>28-02-2022</td>\n",
       "      <td>57.575210</td>\n",
       "      <td>Daylight</td>\n",
       "      <td>Highland</td>\n",
       "      <td>-3.895673</td>\n",
       "      <td>1</td>\n",
       "      <td>1</td>\n",
       "      <td>Wet or damp</td>\n",
       "      <td>Dual carriageway</td>\n",
       "      <td>Rural</td>\n",
       "      <td>Snowing no high winds</td>\n",
       "      <td>Car</td>\n",
       "    </tr>\n",
       "  </tbody>\n",
       "</table>\n",
       "<p>660679 rows × 14 columns</p>\n",
       "</div>"
      ],
      "text/plain": [
       "                Index Accident_Severity Accident Date   Latitude  \\\n",
       "0       200701BS64157           Serious      5/6/2019  51.506187   \n",
       "1       200701BS65737           Serious      2/7/2019  51.495029   \n",
       "2       200701BS66127           Serious    26-08-2019  51.517715   \n",
       "3       200701BS66128           Serious    16-08-2019  51.495478   \n",
       "4       200701BS66837            Slight      3/9/2019  51.488576   \n",
       "...               ...               ...           ...        ...   \n",
       "660674  201091NM01760            Slight    18-02-2022  57.374005   \n",
       "660675  201091NM01881            Slight    21-02-2022  57.232273   \n",
       "660676  201091NM01935            Slight    23-02-2022  57.585044   \n",
       "660677  201091NM01964           Serious    23-02-2022  57.214898   \n",
       "660678  201091NM02142           Serious    28-02-2022  57.575210   \n",
       "\n",
       "                   Light_Conditions           District Area  Longitude  \\\n",
       "0             Darkness - lights lit  Kensington and Chelsea  -0.209082   \n",
       "1                          Daylight  Kensington and Chelsea  -0.173647   \n",
       "2       Darkness - lighting unknown  Kensington and Chelsea  -0.210215   \n",
       "3                          Daylight  Kensington and Chelsea  -0.202731   \n",
       "4             Darkness - lights lit  Kensington and Chelsea  -0.192487   \n",
       "...                             ...                     ...        ...   \n",
       "660674                     Daylight                Highland  -3.467828   \n",
       "660675       Darkness - no lighting                Highland  -3.809281   \n",
       "660676                     Daylight                Highland  -3.862727   \n",
       "660677       Darkness - no lighting                Highland  -3.823997   \n",
       "660678                     Daylight                Highland  -3.895673   \n",
       "\n",
       "        Number_of_Casualties  Number_of_Vehicles Road_Surface_Conditions  \\\n",
       "0                          1                   2                     Dry   \n",
       "1                          1                   2             Wet or damp   \n",
       "2                          1                   3                     Dry   \n",
       "3                          1                   4                     Dry   \n",
       "4                          1                   2                     Dry   \n",
       "...                      ...                 ...                     ...   \n",
       "660674                     2                   1                     Dry   \n",
       "660675                     1                   1            Frost or ice   \n",
       "660676                     1                   3            Frost or ice   \n",
       "660677                     1                   2             Wet or damp   \n",
       "660678                     1                   1             Wet or damp   \n",
       "\n",
       "                 Road_Type Urban_or_Rural_Area     Weather_Conditions  \\\n",
       "0       Single carriageway               Urban     Fine no high winds   \n",
       "1       Single carriageway               Urban  Raining no high winds   \n",
       "2                      NaN               Urban                    NaN   \n",
       "3       Single carriageway               Urban     Fine no high winds   \n",
       "4                      NaN               Urban                    NaN   \n",
       "...                    ...                 ...                    ...   \n",
       "660674  Single carriageway               Rural     Fine no high winds   \n",
       "660675  Single carriageway               Rural     Fine no high winds   \n",
       "660676  Single carriageway               Rural     Fine no high winds   \n",
       "660677  Single carriageway               Rural     Fine no high winds   \n",
       "660678    Dual carriageway               Rural  Snowing no high winds   \n",
       "\n",
       "                                Vehicle_Type  \n",
       "0                                        Car  \n",
       "1                                        Car  \n",
       "2                      Taxi/Private hire car  \n",
       "3       Bus or coach (17 or more pass seats)  \n",
       "4                              Other vehicle  \n",
       "...                                      ...  \n",
       "660674                                   Car  \n",
       "660675                                   Car  \n",
       "660676                                   Car  \n",
       "660677                 Motorcycle over 500cc  \n",
       "660678                                   Car  \n",
       "\n",
       "[660679 rows x 14 columns]"
      ]
     },
     "execution_count": 50,
     "metadata": {},
     "output_type": "execute_result"
    }
   ],
   "source": [
    "accd"
   ]
  },
  {
   "cell_type": "code",
   "execution_count": 51,
   "id": "eb85b5fe-87b8-40b7-8dc1-9a9eea065d5f",
   "metadata": {},
   "outputs": [
    {
     "name": "stdout",
     "output_type": "stream",
     "text": [
      "<class 'pandas.core.frame.DataFrame'>\n",
      "RangeIndex: 660679 entries, 0 to 660678\n",
      "Data columns (total 14 columns):\n",
      " #   Column                   Non-Null Count   Dtype  \n",
      "---  ------                   --------------   -----  \n",
      " 0   Index                    660679 non-null  object \n",
      " 1   Accident_Severity        660679 non-null  object \n",
      " 2   Accident Date            660679 non-null  object \n",
      " 3   Latitude                 660654 non-null  float64\n",
      " 4   Light_Conditions         660679 non-null  object \n",
      " 5   District Area            660679 non-null  object \n",
      " 6   Longitude                660653 non-null  float64\n",
      " 7   Number_of_Casualties     660679 non-null  int64  \n",
      " 8   Number_of_Vehicles       660679 non-null  int64  \n",
      " 9   Road_Surface_Conditions  659953 non-null  object \n",
      " 10  Road_Type                656159 non-null  object \n",
      " 11  Urban_or_Rural_Area      660664 non-null  object \n",
      " 12  Weather_Conditions       646551 non-null  object \n",
      " 13  Vehicle_Type             660679 non-null  object \n",
      "dtypes: float64(2), int64(2), object(10)\n",
      "memory usage: 70.6+ MB\n"
     ]
    }
   ],
   "source": [
    "accd.info()"
   ]
  },
  {
   "cell_type": "code",
   "execution_count": 52,
   "id": "23d26197-395d-4513-9e41-6a56f450ce85",
   "metadata": {},
   "outputs": [
    {
     "data": {
      "text/plain": [
       "Index                          0\n",
       "Accident_Severity              0\n",
       "Accident Date                  0\n",
       "Latitude                      25\n",
       "Light_Conditions               0\n",
       "District Area                  0\n",
       "Longitude                     26\n",
       "Number_of_Casualties           0\n",
       "Number_of_Vehicles             0\n",
       "Road_Surface_Conditions      726\n",
       "Road_Type                   4520\n",
       "Urban_or_Rural_Area           15\n",
       "Weather_Conditions         14128\n",
       "Vehicle_Type                   0\n",
       "dtype: int64"
      ]
     },
     "execution_count": 52,
     "metadata": {},
     "output_type": "execute_result"
    }
   ],
   "source": [
    "accd.isnull().sum()"
   ]
  },
  {
   "cell_type": "markdown",
   "id": "06eab68e-3182-4d54-97f5-b5a594c88275",
   "metadata": {},
   "source": [
    "<h1>Clean the Dataset</h1>"
   ]
  },
  {
   "cell_type": "code",
   "execution_count": 53,
   "id": "25f79cb8-f4a4-426c-bdc1-520530d9d59c",
   "metadata": {},
   "outputs": [],
   "source": [
    "accd['Latitude'] = accd['Latitude'].fillna(accd['Latitude'].mode()[0])\n",
    "accd['Longitude'] = accd['Longitude'].fillna(accd['Longitude'].mode()[0])\n",
    "accd['Road_Surface_Conditions'] = accd['Road_Surface_Conditions'].fillna(accd['Road_Surface_Conditions'].mode()[0])\n",
    "accd['Road_Type'] = accd['Road_Type'].fillna(accd['Road_Type'].mode()[0])\n",
    "accd['Urban_or_Rural_Area'] = accd['Urban_or_Rural_Area'].fillna(accd['Urban_or_Rural_Area'].mode()[0])\n",
    "accd['Weather_Conditions'] = accd['Weather_Conditions'].fillna(accd['Weather_Conditions'].mode()[0])"
   ]
  },
  {
   "cell_type": "code",
   "execution_count": 54,
   "id": "bb0445ed-d2ce-4bce-b6b0-5fedcc99e397",
   "metadata": {},
   "outputs": [
    {
     "data": {
      "text/plain": [
       "Index                      0\n",
       "Accident_Severity          0\n",
       "Accident Date              0\n",
       "Latitude                   0\n",
       "Light_Conditions           0\n",
       "District Area              0\n",
       "Longitude                  0\n",
       "Number_of_Casualties       0\n",
       "Number_of_Vehicles         0\n",
       "Road_Surface_Conditions    0\n",
       "Road_Type                  0\n",
       "Urban_or_Rural_Area        0\n",
       "Weather_Conditions         0\n",
       "Vehicle_Type               0\n",
       "dtype: int64"
      ]
     },
     "execution_count": 54,
     "metadata": {},
     "output_type": "execute_result"
    }
   ],
   "source": [
    "accd.isnull().sum()"
   ]
  },
  {
   "cell_type": "code",
   "execution_count": 55,
   "id": "9fb59be1-5b0b-4f02-ab41-17d15cadb474",
   "metadata": {},
   "outputs": [],
   "source": [
    "accd['Accident_Severity'] = accd['Accident_Severity'].astype('category')\n",
    "accd['Accident Date'] = accd['Accident Date'].astype('category')\n",
    "accd['Latitude'] = accd['Latitude'].astype('category')\n",
    "accd['Light_Conditions'] = accd['Light_Conditions'].astype('category')\n",
    "accd['Longitude'] = accd['Longitude'].astype('category')\n",
    "accd['Road_Surface_Conditions'] = accd['Road_Surface_Conditions'].astype('category')\n",
    "accd['Road_Type'] = accd['Road_Type'].astype('category')\n",
    "accd['Urban_or_Rural_Area'] = accd['Urban_or_Rural_Area'].astype('category')\n",
    "accd['Weather_Conditions'] = accd['Weather_Conditions'].astype('category')\n",
    "accd['Vehicle_Type'] = accd['Vehicle_Type'].astype('category')"
   ]
  },
  {
   "cell_type": "code",
   "execution_count": 56,
   "id": "e6f3eb15-3830-45e8-8baa-2a619bcba9da",
   "metadata": {},
   "outputs": [
    {
     "data": {
      "text/plain": [
       "Index                        object\n",
       "Accident_Severity          category\n",
       "Accident Date              category\n",
       "Latitude                   category\n",
       "Light_Conditions           category\n",
       "District Area                object\n",
       "Longitude                  category\n",
       "Number_of_Casualties          int64\n",
       "Number_of_Vehicles            int64\n",
       "Road_Surface_Conditions    category\n",
       "Road_Type                  category\n",
       "Urban_or_Rural_Area        category\n",
       "Weather_Conditions         category\n",
       "Vehicle_Type               category\n",
       "dtype: object"
      ]
     },
     "execution_count": 56,
     "metadata": {},
     "output_type": "execute_result"
    }
   ],
   "source": [
    "accd.dtypes"
   ]
  },
  {
   "cell_type": "code",
   "execution_count": 57,
   "id": "7f6912b7-2c43-4b79-8c51-74e91be9e0e5",
   "metadata": {},
   "outputs": [],
   "source": [
    "accd['Accident Date'] = pd.to_datetime(accd['Accident Date'],dayfirst = True, errors = 'coerce')"
   ]
  },
  {
   "cell_type": "code",
   "execution_count": 58,
   "id": "0b538701-ae56-4469-aeac-4fc80b5e0f92",
   "metadata": {},
   "outputs": [],
   "source": [
    "accd['Year']=accd['Accident Date'].dt.year\n",
    "accd['Month']=accd['Accident Date'].dt.month\n",
    "accd['Day']=accd['Accident Date'].dt.day\n",
    "accd['DayOfWeek']=accd['Accident Date'].dt.dayofweek #Monday=0, Sunday="
   ]
  },
  {
   "cell_type": "markdown",
   "id": "310613cf-9342-498c-a0d6-357ab79e801d",
   "metadata": {},
   "source": [
    "<h1>Questions and Insights</h1>"
   ]
  },
  {
   "cell_type": "markdown",
   "id": "1d3c1c0b-df04-496f-86c8-f618fa5f713c",
   "metadata": {},
   "source": [
    "<h1>1.Which district has the highest average per accident?</h1>"
   ]
  },
  {
   "cell_type": "code",
   "execution_count": 59,
   "id": "7cb51691-b571-49f6-bbd1-ec0a3058487e",
   "metadata": {},
   "outputs": [
    {
     "data": {
      "text/plain": [
       "District Area\n",
       "Blaeu Gwent          1.693694\n",
       "West Somerset        1.613990\n",
       "Derwentside          1.606186\n",
       "Chester-le-Street    1.603306\n",
       "Durham               1.580431\n",
       "Name: Number_of_Casualties, dtype: float64"
      ]
     },
     "execution_count": 59,
     "metadata": {},
     "output_type": "execute_result"
    }
   ],
   "source": [
    "accd.groupby('District Area')['Number_of_Casualties'].mean().sort_values(ascending=False).head()"
   ]
  },
  {
   "cell_type": "markdown",
   "id": "ff1a474a-fb9f-4c3a-9629-d558c74bc0b4",
   "metadata": {},
   "source": [
    "<h2>Insight 1: The highest average accident district area is Blaeu Gwent with 1.693694 </h2>"
   ]
  },
  {
   "cell_type": "markdown",
   "id": "13df7bd0-b3ee-4a67-b4f3-c75bc1fa0086",
   "metadata": {},
   "source": [
    "<h1>2. What is the most common accident severity?</h1>"
   ]
  },
  {
   "cell_type": "code",
   "execution_count": 60,
   "id": "ec07d12f-0892-4f6d-bf5e-b00bd3603d6e",
   "metadata": {},
   "outputs": [
    {
     "data": {
      "text/plain": [
       "Accident_Severity\n",
       "Slight     563801\n",
       "Serious     88217\n",
       "Fatal        8661\n",
       "Name: count, dtype: int64"
      ]
     },
     "execution_count": 60,
     "metadata": {},
     "output_type": "execute_result"
    }
   ],
   "source": [
    "accd['Accident_Severity'].value_counts()"
   ]
  },
  {
   "cell_type": "markdown",
   "id": "80628200-52de-40cc-9283-bb0bfe7a8cbb",
   "metadata": {},
   "source": [
    "<h2>Insight 2: The most common accident severity is Slight with 563801</h2>"
   ]
  },
  {
   "cell_type": "markdown",
   "id": "988e71d1-024a-413c-afaf-4b801ef47038",
   "metadata": {},
   "source": [
    "<h1>3. Which light condition has the highest number of accidents? </h1>"
   ]
  },
  {
   "cell_type": "code",
   "execution_count": 61,
   "id": "a1063f0a-6c76-4687-89d7-7565b8311601",
   "metadata": {},
   "outputs": [
    {
     "data": {
      "text/plain": [
       "'Daylight'"
      ]
     },
     "execution_count": 61,
     "metadata": {},
     "output_type": "execute_result"
    }
   ],
   "source": [
    "accd['Light_Conditions'].value_counts().idxmax()"
   ]
  },
  {
   "cell_type": "markdown",
   "id": "b502bfb4-b178-4ccd-a3c9-89bbdc317c8d",
   "metadata": {},
   "source": [
    "<h2>Insight 3: Daylight  has the highest number of accidents in light condition</h2>"
   ]
  },
  {
   "cell_type": "markdown",
   "id": "c471a15d-0208-4832-9256-459857ef76f7",
   "metadata": {},
   "source": [
    "<h1>4.Which road surface condition is linked to the highest number of accidents?</h1>"
   ]
  },
  {
   "cell_type": "code",
   "execution_count": 62,
   "id": "ed47cbb3-5313-4113-bf03-8c82d3821a3b",
   "metadata": {},
   "outputs": [
    {
     "data": {
      "text/plain": [
       "'Dry'"
      ]
     },
     "execution_count": 62,
     "metadata": {},
     "output_type": "execute_result"
    }
   ],
   "source": [
    "accd['Road_Surface_Conditions'].value_counts().idxmax()"
   ]
  },
  {
   "cell_type": "markdown",
   "id": "4f864fb6-5700-4efd-9d07-c73e2e15954b",
   "metadata": {},
   "source": [
    "<h2>Insight 4: Dry got the highest number of accident on road surface condition</h2>"
   ]
  },
  {
   "cell_type": "markdown",
   "id": "510ca2d2-93a2-4de4-9f16-0bc87beb0eea",
   "metadata": {},
   "source": [
    "<h1>5. Which year recorded the highest number of accidents?</h1>"
   ]
  },
  {
   "cell_type": "code",
   "execution_count": 63,
   "id": "e2cd244a-a005-44fb-b877-12c6ff46025c",
   "metadata": {},
   "outputs": [],
   "source": [
    "accident = accd['Year'].value_counts().idxmax()"
   ]
  },
  {
   "cell_type": "code",
   "execution_count": 64,
   "id": "63389684-e8e7-42e9-9bab-34a2dcbf6ae0",
   "metadata": {},
   "outputs": [
    {
     "data": {
      "text/plain": [
       "np.float64(2019.0)"
      ]
     },
     "execution_count": 64,
     "metadata": {},
     "output_type": "execute_result"
    }
   ],
   "source": [
    "accident"
   ]
  },
  {
   "cell_type": "markdown",
   "id": "eec200b2-15aa-4d02-a978-5230e384093c",
   "metadata": {},
   "source": [
    "<h2>Insight 5:Based on the results the year recorded highest number of accidents is 2019 </h2>"
   ]
  },
  {
   "cell_type": "markdown",
   "id": "f94b4ef9-9b57-4800-8278-60190c9ffd47",
   "metadata": {},
   "source": [
    "<h1>6. Is there a correlation between the number of vehicles involved and the number of casualties?</h1>"
   ]
  },
  {
   "cell_type": "code",
   "execution_count": 65,
   "id": "a039742b-cf2d-4ec4-bb81-e1dcbc85a1be",
   "metadata": {},
   "outputs": [
    {
     "data": {
      "text/plain": [
       "np.float64(0.22888886126926722)"
      ]
     },
     "execution_count": 65,
     "metadata": {},
     "output_type": "execute_result"
    }
   ],
   "source": [
    "accd[['Number_of_Vehicles', 'Number_of_Casualties']].corr().iloc[0,1]"
   ]
  },
  {
   "cell_type": "markdown",
   "id": "c2daf7cf-9ac5-4ca8-8432-5642fad08bf0",
   "metadata": {},
   "source": [
    "<h1>Insight 6: There is no correlation between number vehicles involed and the number of casualties</h1>"
   ]
  },
  {
   "cell_type": "markdown",
   "id": "1562819b-f1d1-4515-a62a-dc216e43119f",
   "metadata": {},
   "source": [
    "<h1>7.Which month across all years has the highest accident frequency?</h1>"
   ]
  },
  {
   "cell_type": "code",
   "execution_count": 66,
   "id": "53cf0adc-5ccc-42b8-87a7-12821bb78c5d",
   "metadata": {},
   "outputs": [
    {
     "data": {
      "text/plain": [
       "np.float64(11.0)"
      ]
     },
     "execution_count": 66,
     "metadata": {},
     "output_type": "execute_result"
    }
   ],
   "source": [
    " accd['Month'].value_counts().idxmax()"
   ]
  },
  {
   "cell_type": "markdown",
   "id": "ef688080-04ba-47f9-b859-dbc81b124d6e",
   "metadata": {},
   "source": [
    "<h2> Insight 7: 11 or November got the highest accident frequency across all years</h2>"
   ]
  },
  {
   "cell_type": "markdown",
   "id": "b0ec3477-50e2-4457-b650-5d64462577b1",
   "metadata": {},
   "source": [
    "<h1>8. What kind of weather conditions have the highest record of accident record?</h1>"
   ]
  },
  {
   "cell_type": "code",
   "execution_count": 67,
   "id": "dd662d89-7a44-453d-a134-327e0046cbc8",
   "metadata": {},
   "outputs": [],
   "source": [
    "weather = accd['Weather_Conditions'].value_counts()"
   ]
  },
  {
   "cell_type": "code",
   "execution_count": 68,
   "id": "35e864e9-8afe-4a79-861f-76920ec6d0b1",
   "metadata": {},
   "outputs": [
    {
     "data": {
      "text/plain": [
       "Weather_Conditions\n",
       "Fine no high winds       535013\n",
       "Raining no high winds     79696\n",
       "Other                     17150\n",
       "Raining + high winds       9615\n",
       "Fine + high winds          8554\n",
       "Snowing no high winds      6238\n",
       "Fog or mist                3528\n",
       "Snowing + high winds        885\n",
       "Name: count, dtype: int64"
      ]
     },
     "execution_count": 68,
     "metadata": {},
     "output_type": "execute_result"
    }
   ],
   "source": [
    "weather"
   ]
  },
  {
   "cell_type": "markdown",
   "id": "92396103-8d23-4670-afbf-a1f553099199",
   "metadata": {},
   "source": [
    "<h2>Insight 8: Fine no high winds got the highest record of accident </h2>"
   ]
  },
  {
   "cell_type": "markdown",
   "id": "9893e82c-71a3-4b63-910e-bc2054ec0d91",
   "metadata": {},
   "source": [
    "<h1>9.Which date has the most recorded of accident?</h1>"
   ]
  },
  {
   "cell_type": "code",
   "execution_count": 69,
   "id": "b35de273-aa57-46cd-aa93-e79d5c8b18c8",
   "metadata": {},
   "outputs": [],
   "source": [
    "accidents = accd['Accident Date'].value_counts()"
   ]
  },
  {
   "cell_type": "code",
   "execution_count": 70,
   "id": "359ca445-d16d-4404-9104-da9e70905e77",
   "metadata": {},
   "outputs": [
    {
     "data": {
      "text/plain": [
       "Accident Date\n",
       "2021-02-11    685\n",
       "2021-10-06    680\n",
       "2019-12-06    678\n",
       "2019-02-01    676\n",
       "2021-12-04    667\n",
       "             ... \n",
       "2022-01-09    236\n",
       "2022-12-02    236\n",
       "2022-04-05    231\n",
       "2022-02-07    213\n",
       "2022-01-10    123\n",
       "Name: count, Length: 576, dtype: int64"
      ]
     },
     "execution_count": 70,
     "metadata": {},
     "output_type": "execute_result"
    }
   ],
   "source": [
    "accidents"
   ]
  },
  {
   "cell_type": "markdown",
   "id": "d23ac0c4-5b2e-4a4f-a668-b7cbf69ebd6c",
   "metadata": {},
   "source": [
    "<h2>Insight 9: 2021-02-11 has the most recorded accident date with 685 accidents</h2>"
   ]
  },
  {
   "cell_type": "markdown",
   "id": "af8a1665-1a16-4bc2-8055-4a594a215a12",
   "metadata": {},
   "source": [
    "<h1>10.Is there a correlation between the Latitude and the number of casualties that is recorded in the dataset?</h1>"
   ]
  },
  {
   "cell_type": "code",
   "execution_count": 71,
   "id": "a2813188-84d7-4aad-85c2-e08ca24f5799",
   "metadata": {},
   "outputs": [],
   "source": [
    "corr_lat_cas = accd['Latitude'].corr(accd['Number_of_Casualties'])"
   ]
  },
  {
   "cell_type": "code",
   "execution_count": 72,
   "id": "eb5b49dc-c92a-4468-8d17-9d25291311d1",
   "metadata": {},
   "outputs": [
    {
     "data": {
      "text/plain": [
       "np.float64(0.03220129464996815)"
      ]
     },
     "execution_count": 72,
     "metadata": {},
     "output_type": "execute_result"
    }
   ],
   "source": [
    "corr_lat_cas"
   ]
  },
  {
   "cell_type": "markdown",
   "id": "c02fb21a-8126-43c0-89d7-7d35b77f0c1e",
   "metadata": {},
   "source": [
    "<h2>Insight 10: According to the result of the analysis there is no correlation between Latitude and Number of casualties in the dataset</h2>"
   ]
  },
  {
   "cell_type": "markdown",
   "id": "6096e2eb-a090-4d23-a3e2-28d40e3b78fb",
   "metadata": {},
   "source": [
    "<h1>11. Which light condition has the highest proportion of fatal accidents?</h1>"
   ]
  },
  {
   "cell_type": "code",
   "execution_count": 73,
   "id": "34186ccf-23e7-4a1e-9de9-540a90c9fea5",
   "metadata": {},
   "outputs": [],
   "source": [
    "fatal_ratio = accd[accd['Accident_Severity']==\"Fatal\"].groupby(\"Light_Conditions\").size() / accd.groupby(\"Light_Conditions\").size()"
   ]
  },
  {
   "cell_type": "code",
   "execution_count": 74,
   "id": "b7cf9a54-946d-4083-8937-974b50239191",
   "metadata": {},
   "outputs": [
    {
     "data": {
      "text/plain": [
       "Light_Conditions\n",
       "Darkness - lighting unknown    0.010487\n",
       "Darkness - lights lit          0.014381\n",
       "Darkness - lights unlit        0.017696\n",
       "Darkness - no lighting         0.043059\n",
       "Daylight                       0.010469\n",
       "dtype: float64"
      ]
     },
     "execution_count": 74,
     "metadata": {},
     "output_type": "execute_result"
    }
   ],
   "source": [
    "fatal_ratio "
   ]
  },
  {
   "cell_type": "markdown",
   "id": "150dc7fb-8a59-44c5-8c83-3bcd30eaa3d1",
   "metadata": {},
   "source": [
    "<h2>Insight 11: Based on the result the highest proportion of fatal accidents on light conditions is Darkness - no lighting</h2>"
   ]
  },
  {
   "cell_type": "markdown",
   "id": "583feea9-252b-40e8-8a18-beabc96f97af",
   "metadata": {},
   "source": [
    "<h1>12.Which district area recorded the fewest accidents?</h1>"
   ]
  },
  {
   "cell_type": "code",
   "execution_count": 82,
   "id": "348ce90f-2c14-450a-8b44-58d20575217d",
   "metadata": {},
   "outputs": [
    {
     "data": {
      "text/plain": [
       "'Clackmannanshire'"
      ]
     },
     "execution_count": 82,
     "metadata": {},
     "output_type": "execute_result"
    }
   ],
   "source": [
    "accd['District Area'].value_counts().idxmin()\n"
   ]
  },
  {
   "cell_type": "markdown",
   "id": "994f5f6b-a0df-4cdd-93c2-515863338106",
   "metadata": {},
   "source": [
    "<h2>Insight 12: Based on the result Clackmannashire is the fewest accident recorded in district area</h2>"
   ]
  },
  {
   "cell_type": "markdown",
   "id": "f333bc91-f554-44de-9721-3a2c3fa9766e",
   "metadata": {},
   "source": [
    "<h1>13. Do accidents involving motorcycles result in more casualties on average than cars?</h1>"
   ]
  },
  {
   "cell_type": "code",
   "execution_count": 80,
   "id": "49442a0e-db84-4c52-9d8c-dc9c0eac8986",
   "metadata": {},
   "outputs": [],
   "source": [
    "avg_casualties = accd.groupby(\"Vehicle_Type\")[\"Number_of_Casualties\"].mean()"
   ]
  },
  {
   "cell_type": "code",
   "execution_count": 81,
   "id": "2d40354f-1625-48cd-8510-623cdf4b2390",
   "metadata": {},
   "outputs": [
    {
     "data": {
      "text/plain": [
       "Vehicle_Type\n",
       "Agricultural vehicle                     1.342065\n",
       "Bus or coach (17 or more pass seats)     1.349216\n",
       "Car                                      1.358841\n",
       "Data missing or out of range             1.500000\n",
       "Goods 7.5 tonnes mgw and over            1.351881\n",
       "Goods over 3.5t. and under 7.5t          1.362861\n",
       "Minibus (8 - 16 passenger seats)         1.345648\n",
       "Motorcycle 125cc and under               1.332635\n",
       "Motorcycle 50cc and under                1.337235\n",
       "Motorcycle over 125cc and up to 500cc    1.343521\n",
       "Motorcycle over 500cc                    1.359434\n",
       "Other vehicle                            1.340075\n",
       "Pedal cycle                              1.370558\n",
       "Ridden horse                             1.250000\n",
       "Taxi/Private hire car                    1.368663\n",
       "Van / Goods 3.5 tonnes mgw or under      1.354537\n",
       "Name: Number_of_Casualties, dtype: float64"
      ]
     },
     "execution_count": 81,
     "metadata": {},
     "output_type": "execute_result"
    }
   ],
   "source": [
    "avg_casualties"
   ]
  },
  {
   "cell_type": "markdown",
   "id": "b07fd465-7682-4bb3-941a-14d8dbb8608e",
   "metadata": {},
   "source": [
    "<h2>Insight 13: Overall, motorcycle accidents do not consistently result in more casualties than car accidents.</h2>"
   ]
  },
  {
   "cell_type": "markdown",
   "id": "f72d35f3-d4bd-4434-8fe9-b79bd47561fc",
   "metadata": {},
   "source": [
    "<h1>14.Which road surface condition is associated with the lowest average number of casualties? </h1>"
   ]
  },
  {
   "cell_type": "code",
   "execution_count": 83,
   "id": "f24da062-4776-41bc-b1b3-378ad3f9e861",
   "metadata": {},
   "outputs": [
    {
     "data": {
      "text/plain": [
       "'Dry'"
      ]
     },
     "execution_count": 83,
     "metadata": {},
     "output_type": "execute_result"
    }
   ],
   "source": [
    "accd.groupby('Road_Surface_Conditions')['Number_of_Casualties'].mean().idxmin()"
   ]
  },
  {
   "cell_type": "markdown",
   "id": "f12fc2a0-fb32-4a68-b619-69ae36f859d4",
   "metadata": {},
   "source": [
    "<h2>Insight 14: According to the data result the lowest average number of casualties on road surface condition is Dry </h2>"
   ]
  },
  {
   "cell_type": "markdown",
   "id": "8e1417c6-e759-42fd-8525-88f31f9d1db2",
   "metadata": {},
   "source": [
    "<h1>15. Which year shows the largest year-over-year decrease in accidents? </h1>"
   ]
  },
  {
   "cell_type": "code",
   "execution_count": 86,
   "id": "0bfd38e9-35fe-4e42-bb5d-2071e8fb79b7",
   "metadata": {},
   "outputs": [],
   "source": [
    "yearly_counts = accd['Year'].value_counts().sort_index()"
   ]
  },
  {
   "cell_type": "code",
   "execution_count": 87,
   "id": "5820cb9b-bc1b-4a8b-8be1-1b720dc23c11",
   "metadata": {},
   "outputs": [
    {
     "data": {
      "text/plain": [
       "Year\n",
       "2019.0    71867\n",
       "2020.0    70163\n",
       "2021.0    66172\n",
       "2022.0    56805\n",
       "Name: count, dtype: int64"
      ]
     },
     "execution_count": 87,
     "metadata": {},
     "output_type": "execute_result"
    }
   ],
   "source": [
    "yearly_counts"
   ]
  },
  {
   "cell_type": "markdown",
   "id": "b0945edc-b7fd-42b6-8c6b-8a6f7c772ab8",
   "metadata": {},
   "source": [
    "<h2>Insight 15:Based on the result the largest year-over-year decrease in accidents is 2019</h2>"
   ]
  },
  {
   "cell_type": "markdown",
   "id": "d0c042a1-d443-462d-b05b-c54ae7e2cb56",
   "metadata": {},
   "source": [
    "<h1>16.Do accidents involving buses/coaches have more casualties on average than cars?</h1>"
   ]
  },
  {
   "cell_type": "code",
   "execution_count": 90,
   "id": "67aeedce-f6a1-4f4b-95cd-4480dde27b40",
   "metadata": {},
   "outputs": [],
   "source": [
    "avg_casualties = accd.groupby(\"Vehicle_Type\")[\"Number_of_Casualties\"].mean()"
   ]
  },
  {
   "cell_type": "code",
   "execution_count": 91,
   "id": "1775ccb9-6971-4d94-a18b-46a18e00a83f",
   "metadata": {},
   "outputs": [
    {
     "data": {
      "text/plain": [
       "Vehicle_Type\n",
       "Agricultural vehicle                     1.342065\n",
       "Bus or coach (17 or more pass seats)     1.349216\n",
       "Car                                      1.358841\n",
       "Data missing or out of range             1.500000\n",
       "Goods 7.5 tonnes mgw and over            1.351881\n",
       "Goods over 3.5t. and under 7.5t          1.362861\n",
       "Minibus (8 - 16 passenger seats)         1.345648\n",
       "Motorcycle 125cc and under               1.332635\n",
       "Motorcycle 50cc and under                1.337235\n",
       "Motorcycle over 125cc and up to 500cc    1.343521\n",
       "Motorcycle over 500cc                    1.359434\n",
       "Other vehicle                            1.340075\n",
       "Pedal cycle                              1.370558\n",
       "Ridden horse                             1.250000\n",
       "Taxi/Private hire car                    1.368663\n",
       "Van / Goods 3.5 tonnes mgw or under      1.354537\n",
       "Name: Number_of_Casualties, dtype: float64"
      ]
     },
     "execution_count": 91,
     "metadata": {},
     "output_type": "execute_result"
    }
   ],
   "source": [
    "avg_casualties"
   ]
  },
  {
   "cell_type": "markdown",
   "id": "33b8e4e7-5732-4ef7-bc65-72fd31bd5604",
   "metadata": {},
   "source": [
    "<h2>Insight 16: The average casualties per bus accident (1.35) is actually slightly lower than for cars (1.36).</h2>"
   ]
  },
  {
   "cell_type": "markdown",
   "id": "c77a03e6-0d46-497b-b6f0-23b28168f4e1",
   "metadata": {},
   "source": [
    "<h1>17.Is there a correlation between weather conditions and accident severity?</h1>"
   ]
  },
  {
   "cell_type": "code",
   "execution_count": 100,
   "id": "017322f4-9dad-4a1d-84ba-068b4f43d3a3",
   "metadata": {},
   "outputs": [],
   "source": [
    "severity_by_weather = accd.groupby('Weather_Conditions')['Accident_Severity'].value_counts(normalize=True).unstack()"
   ]
  },
  {
   "cell_type": "code",
   "execution_count": 101,
   "id": "2a51acc2-c36d-4070-b740-e8f92efac721",
   "metadata": {},
   "outputs": [
    {
     "data": {
      "text/html": [
       "<div>\n",
       "<style scoped>\n",
       "    .dataframe tbody tr th:only-of-type {\n",
       "        vertical-align: middle;\n",
       "    }\n",
       "\n",
       "    .dataframe tbody tr th {\n",
       "        vertical-align: top;\n",
       "    }\n",
       "\n",
       "    .dataframe thead th {\n",
       "        text-align: right;\n",
       "    }\n",
       "</style>\n",
       "<table border=\"1\" class=\"dataframe\">\n",
       "  <thead>\n",
       "    <tr style=\"text-align: right;\">\n",
       "      <th>Accident_Severity</th>\n",
       "      <th>Fatal</th>\n",
       "      <th>Serious</th>\n",
       "      <th>Slight</th>\n",
       "    </tr>\n",
       "    <tr>\n",
       "      <th>Weather_Conditions</th>\n",
       "      <th></th>\n",
       "      <th></th>\n",
       "      <th></th>\n",
       "    </tr>\n",
       "  </thead>\n",
       "  <tbody>\n",
       "    <tr>\n",
       "      <th>Fine + high winds</th>\n",
       "      <td>0.020458</td>\n",
       "      <td>0.145546</td>\n",
       "      <td>0.833996</td>\n",
       "    </tr>\n",
       "    <tr>\n",
       "      <th>Fine no high winds</th>\n",
       "      <td>0.013471</td>\n",
       "      <td>0.136978</td>\n",
       "      <td>0.849551</td>\n",
       "    </tr>\n",
       "    <tr>\n",
       "      <th>Fog or mist</th>\n",
       "      <td>0.023243</td>\n",
       "      <td>0.136905</td>\n",
       "      <td>0.839853</td>\n",
       "    </tr>\n",
       "    <tr>\n",
       "      <th>Other</th>\n",
       "      <td>0.009621</td>\n",
       "      <td>0.105015</td>\n",
       "      <td>0.885364</td>\n",
       "    </tr>\n",
       "    <tr>\n",
       "      <th>Raining + high winds</th>\n",
       "      <td>0.015081</td>\n",
       "      <td>0.131149</td>\n",
       "      <td>0.853770</td>\n",
       "    </tr>\n",
       "    <tr>\n",
       "      <th>Raining no high winds</th>\n",
       "      <td>0.010640</td>\n",
       "      <td>0.118801</td>\n",
       "      <td>0.870558</td>\n",
       "    </tr>\n",
       "    <tr>\n",
       "      <th>Snowing + high winds</th>\n",
       "      <td>0.003390</td>\n",
       "      <td>0.123164</td>\n",
       "      <td>0.873446</td>\n",
       "    </tr>\n",
       "    <tr>\n",
       "      <th>Snowing no high winds</th>\n",
       "      <td>0.005771</td>\n",
       "      <td>0.090574</td>\n",
       "      <td>0.903655</td>\n",
       "    </tr>\n",
       "  </tbody>\n",
       "</table>\n",
       "</div>"
      ],
      "text/plain": [
       "Accident_Severity         Fatal   Serious    Slight\n",
       "Weather_Conditions                                 \n",
       "Fine + high winds      0.020458  0.145546  0.833996\n",
       "Fine no high winds     0.013471  0.136978  0.849551\n",
       "Fog or mist            0.023243  0.136905  0.839853\n",
       "Other                  0.009621  0.105015  0.885364\n",
       "Raining + high winds   0.015081  0.131149  0.853770\n",
       "Raining no high winds  0.010640  0.118801  0.870558\n",
       "Snowing + high winds   0.003390  0.123164  0.873446\n",
       "Snowing no high winds  0.005771  0.090574  0.903655"
      ]
     },
     "execution_count": 101,
     "metadata": {},
     "output_type": "execute_result"
    }
   ],
   "source": [
    "severity_by_weather "
   ]
  },
  {
   "cell_type": "markdown",
   "id": "8c4cc580-4586-4fb2-9656-089d7b245fee",
   "metadata": {},
   "source": [
    "<h2>Insight 17: Base on the result there is a correlation between weather condition and accident severity</h2>"
   ]
  },
  {
   "cell_type": "markdown",
   "id": "aac097e3-a593-4ad8-b6d4-49c0c26b63ba",
   "metadata": {},
   "source": [
    "<h1>18.Does the average number of vehicles involved per accident differ between urban and rural areas?</h1>"
   ]
  },
  {
   "cell_type": "code",
   "execution_count": 111,
   "id": "b78d2448-500e-48a8-a107-cc0abca855a4",
   "metadata": {},
   "outputs": [],
   "source": [
    "avg_vehicles_area = accd.groupby(\"Urban_or_Rural_Area\")[\"Number_of_Vehicles\"].mean()"
   ]
  },
  {
   "cell_type": "code",
   "execution_count": 112,
   "id": "424576ef-1320-4fbd-9c38-0e99693d95df",
   "metadata": {},
   "outputs": [
    {
     "data": {
      "text/plain": [
       "Urban_or_Rural_Area\n",
       "Rural          1.866312\n",
       "Unallocated    1.909091\n",
       "Urban          1.811385\n",
       "Name: Number_of_Vehicles, dtype: float64"
      ]
     },
     "execution_count": 112,
     "metadata": {},
     "output_type": "execute_result"
    }
   ],
   "source": [
    "avg_vehicles_area"
   ]
  },
  {
   "cell_type": "markdown",
   "id": "30e2fd61-337f-47f3-bc89-2418ef66fae6",
   "metadata": {},
   "source": [
    "<h2>Insight 18: Rural areas generally see larger multi-vehicle accidents than urban areas.</h2>"
   ]
  },
  {
   "cell_type": "markdown",
   "id": "9cd58a5c-519f-4237-ac18-433c5ef8eb6d",
   "metadata": {},
   "source": [
    "<h1>19.Which area type shows the most variation (spread) in number of vehicles?</h1>"
   ]
  },
  {
   "cell_type": "code",
   "execution_count": 120,
   "id": "e8829d3a-030d-402b-bdad-88c318d11db2",
   "metadata": {},
   "outputs": [
    {
     "data": {
      "text/plain": [
       "Urban_or_Rural_Area\n",
       "Rural          0.809018\n",
       "Unallocated    0.539360\n",
       "Urban          0.655390\n",
       "Name: Number_of_Vehicles, dtype: float64"
      ]
     },
     "execution_count": 120,
     "metadata": {},
     "output_type": "execute_result"
    }
   ],
   "source": [
    "accd.groupby(\"Urban_or_Rural_Area\")[\"Number_of_Vehicles\"].std()"
   ]
  },
  {
   "cell_type": "markdown",
   "id": "cbbe079c-6529-4181-a103-144a722cb201",
   "metadata": {},
   "source": [
    "<h2>Insight 19:Rural has the most variation in number of vehicles </h2>"
   ]
  },
  {
   "cell_type": "markdown",
   "id": "f0e0a5db-74c4-4492-8ad9-7c5081829397",
   "metadata": {},
   "source": [
    "<h1>20.Which vehicle type is most frequently involved in accidents in rural areas?</h1>"
   ]
  },
  {
   "cell_type": "code",
   "execution_count": 129,
   "id": "d8117b2b-c21c-4172-8632-4e865cbec0c2",
   "metadata": {},
   "outputs": [],
   "source": [
    "rural_vehicle_counts = accd[accd[\"Urban_or_Rural_Area\"] == \"Rural\"][\"Vehicle_Type\"].value_counts().head(5)"
   ]
  },
  {
   "cell_type": "code",
   "execution_count": 130,
   "id": "81e79f9d-74cf-4291-8e21-a9a9043a7dff",
   "metadata": {},
   "outputs": [
    {
     "data": {
      "text/plain": [
       "Vehicle_Type\n",
       "Car                                     181922\n",
       "Van / Goods 3.5 tonnes mgw or under      12156\n",
       "Bus or coach (17 or more pass seats)      9025\n",
       "Motorcycle over 500cc                     8957\n",
       "Goods 7.5 tonnes mgw and over             6156\n",
       "Name: count, dtype: int64"
      ]
     },
     "execution_count": 130,
     "metadata": {},
     "output_type": "execute_result"
    }
   ],
   "source": [
    "rural_vehicle_counts"
   ]
  },
  {
   "cell_type": "markdown",
   "id": "b66cb2c9-79ee-42d8-ad81-77f52ce6337e",
   "metadata": {},
   "source": [
    "<h2>Insight 20:Car got the most frequently involved in accident in rural areas </h2>"
   ]
  },
  {
   "cell_type": "markdown",
   "id": "0b3510a6-3080-4f7c-9c53-79cc705a14a1",
   "metadata": {},
   "source": [
    "<h1>21.Do rainy weather conditions result in more casualties compared to fine weather?</h1>"
   ]
  },
  {
   "cell_type": "code",
   "execution_count": 126,
   "id": "2d8ab15a-798c-4d78-ae41-6be55992787a",
   "metadata": {},
   "outputs": [],
   "source": [
    "rain_vs_fine = accd.groupby(\"Weather_Conditions\")[\"Number_of_Casualties\"].mean()"
   ]
  },
  {
   "cell_type": "code",
   "execution_count": 127,
   "id": "60a25376-3f1f-479e-9b16-2ffbecd99e86",
   "metadata": {},
   "outputs": [
    {
     "data": {
      "text/plain": [
       "Weather_Conditions\n",
       "Fine + high winds        1.386018\n",
       "Fine no high winds       1.347397\n",
       "Fog or mist              1.452948\n",
       "Other                    1.354869\n",
       "Raining + high winds     1.416641\n",
       "Raining no high winds    1.408214\n",
       "Snowing + high winds     1.418079\n",
       "Snowing no high winds    1.341776\n",
       "Name: Number_of_Casualties, dtype: float64"
      ]
     },
     "execution_count": 127,
     "metadata": {},
     "output_type": "execute_result"
    }
   ],
   "source": [
    "rain_vs_fine"
   ]
  },
  {
   "cell_type": "markdown",
   "id": "54e36342-f147-4ded-a3f4-9f456d5d5457",
   "metadata": {},
   "source": [
    "<h2>Insight 21: Based on the result rain weather got a more casualties compared to fine</h2>"
   ]
  },
  {
   "cell_type": "markdown",
   "id": "91ba6b04-531c-4f72-b5c1-144fa8854a4a",
   "metadata": {},
   "source": [
    "<h1>22.Do rural districts have higher average casualties than urban districts?</h1>"
   ]
  },
  {
   "cell_type": "code",
   "execution_count": 133,
   "id": "d0d1c46d-7992-4443-bb17-c60088fedb80",
   "metadata": {},
   "outputs": [],
   "source": [
    "casualties_area = accd.groupby(\"Urban_or_Rural_Area\")[\"Number_of_Casualties\"].mean()"
   ]
  },
  {
   "cell_type": "code",
   "execution_count": 134,
   "id": "444c8071-6245-4352-b7b5-1ca11aa31697",
   "metadata": {},
   "outputs": [
    {
     "data": {
      "text/plain": [
       "Urban_or_Rural_Area\n",
       "Rural          1.479204\n",
       "Unallocated    1.181818\n",
       "Urban          1.287807\n",
       "Name: Number_of_Casualties, dtype: float64"
      ]
     },
     "execution_count": 134,
     "metadata": {},
     "output_type": "execute_result"
    }
   ],
   "source": [
    "casualties_area"
   ]
  },
  {
   "cell_type": "markdown",
   "id": "dd3dc02a-b690-43cc-a272-e07fad7e2849",
   "metadata": {},
   "source": [
    "<h2>Insight 22: Rural district accidents are more severe than Urban district</h2>"
   ]
  },
  {
   "cell_type": "markdown",
   "id": "9ed1cda2-0469-445c-a92b-77e58f52eb4d",
   "metadata": {},
   "source": [
    "<h1>23.What is the most common number of vehicles involved in accidents?</h1>"
   ]
  },
  {
   "cell_type": "code",
   "execution_count": 135,
   "id": "62856b5b-ab18-4c84-9738-e12003fe605b",
   "metadata": {},
   "outputs": [
    {
     "data": {
      "text/plain": [
       "np.int64(2)"
      ]
     },
     "execution_count": 135,
     "metadata": {},
     "output_type": "execute_result"
    }
   ],
   "source": [
    "accd['Number_of_Vehicles'].value_counts().idxmax()"
   ]
  },
  {
   "cell_type": "markdown",
   "id": "0cbcf708-1b33-4274-874d-296cb2d6f4ed",
   "metadata": {},
   "source": [
    "<h2>Insight 23:According to the result 2 is the number of vehicle commonly involved in accident.</h2>"
   ]
  },
  {
   "cell_type": "markdown",
   "id": "4ba8ffbf-90ec-48bf-8959-5e6e8ff72cfc",
   "metadata": {},
   "source": [
    "<h1>24.How has the number of accidents on each Road_Type changed over the years?</h1>"
   ]
  },
  {
   "cell_type": "code",
   "execution_count": 139,
   "id": "98de429d-6fcd-4f80-9806-6055a90cf2be",
   "metadata": {},
   "outputs": [],
   "source": [
    "accidents_by_year_road = accd.groupby(['Year','Road_Type']).size().unstack(fill_value=0)"
   ]
  },
  {
   "cell_type": "code",
   "execution_count": 140,
   "id": "e9002854-90fd-40e4-81cd-e936105c6460",
   "metadata": {},
   "outputs": [
    {
     "data": {
      "text/html": [
       "<div>\n",
       "<style scoped>\n",
       "    .dataframe tbody tr th:only-of-type {\n",
       "        vertical-align: middle;\n",
       "    }\n",
       "\n",
       "    .dataframe tbody tr th {\n",
       "        vertical-align: top;\n",
       "    }\n",
       "\n",
       "    .dataframe thead th {\n",
       "        text-align: right;\n",
       "    }\n",
       "</style>\n",
       "<table border=\"1\" class=\"dataframe\">\n",
       "  <thead>\n",
       "    <tr style=\"text-align: right;\">\n",
       "      <th>Road_Type</th>\n",
       "      <th>Dual carriageway</th>\n",
       "      <th>One way street</th>\n",
       "      <th>Roundabout</th>\n",
       "      <th>Single carriageway</th>\n",
       "      <th>Slip road</th>\n",
       "    </tr>\n",
       "    <tr>\n",
       "      <th>Year</th>\n",
       "      <th></th>\n",
       "      <th></th>\n",
       "      <th></th>\n",
       "      <th></th>\n",
       "      <th></th>\n",
       "    </tr>\n",
       "  </thead>\n",
       "  <tbody>\n",
       "    <tr>\n",
       "      <th>2019.0</th>\n",
       "      <td>11022</td>\n",
       "      <td>1550</td>\n",
       "      <td>4603</td>\n",
       "      <td>53917</td>\n",
       "      <td>775</td>\n",
       "    </tr>\n",
       "    <tr>\n",
       "      <th>2020.0</th>\n",
       "      <td>10527</td>\n",
       "      <td>1431</td>\n",
       "      <td>4688</td>\n",
       "      <td>52776</td>\n",
       "      <td>741</td>\n",
       "    </tr>\n",
       "    <tr>\n",
       "      <th>2021.0</th>\n",
       "      <td>9764</td>\n",
       "      <td>1321</td>\n",
       "      <td>4408</td>\n",
       "      <td>49981</td>\n",
       "      <td>698</td>\n",
       "    </tr>\n",
       "    <tr>\n",
       "      <th>2022.0</th>\n",
       "      <td>8319</td>\n",
       "      <td>1166</td>\n",
       "      <td>3831</td>\n",
       "      <td>42881</td>\n",
       "      <td>608</td>\n",
       "    </tr>\n",
       "  </tbody>\n",
       "</table>\n",
       "</div>"
      ],
      "text/plain": [
       "Road_Type  Dual carriageway  One way street  Roundabout  Single carriageway  \\\n",
       "Year                                                                          \n",
       "2019.0                11022            1550        4603               53917   \n",
       "2020.0                10527            1431        4688               52776   \n",
       "2021.0                 9764            1321        4408               49981   \n",
       "2022.0                 8319            1166        3831               42881   \n",
       "\n",
       "Road_Type  Slip road  \n",
       "Year                  \n",
       "2019.0           775  \n",
       "2020.0           741  \n",
       "2021.0           698  \n",
       "2022.0           608  "
      ]
     },
     "execution_count": 140,
     "metadata": {},
     "output_type": "execute_result"
    }
   ],
   "source": [
    "accidents_by_year_road"
   ]
  },
  {
   "cell_type": "markdown",
   "id": "16c4d224-f996-4e25-a733-9948cced72be",
   "metadata": {},
   "source": [
    "<h2>Insight 24:Based on the result as the years past the number of accident decreases</h2>"
   ]
  },
  {
   "cell_type": "markdown",
   "id": "f53623a3-3691-4946-87a7-efd37b2aca77",
   "metadata": {},
   "source": [
    "<h1>25.Do accidents with more vehicles tend to have higher casualty counts?</h1>"
   ]
  },
  {
   "cell_type": "code",
   "execution_count": 137,
   "id": "7a374282-9854-4e63-b4d6-320587aee818",
   "metadata": {},
   "outputs": [
    {
     "data": {
      "text/plain": [
       "Number_of_Vehicles\n",
       "1      1.170932\n",
       "2      1.374880\n",
       "3      1.711169\n",
       "4      1.995575\n",
       "5      2.315341\n",
       "6      2.612137\n",
       "7      3.064189\n",
       "8      3.401361\n",
       "9      3.350877\n",
       "10     3.629630\n",
       "11     4.000000\n",
       "12     2.285714\n",
       "13     7.833333\n",
       "14     5.444444\n",
       "15     5.000000\n",
       "16     6.000000\n",
       "19    13.000000\n",
       "28    16.000000\n",
       "32     5.000000\n",
       "Name: Number_of_Casualties, dtype: float64"
      ]
     },
     "execution_count": 137,
     "metadata": {},
     "output_type": "execute_result"
    }
   ],
   "source": [
    "accd.groupby('Number_of_Vehicles')['Number_of_Casualties'].mean()"
   ]
  },
  {
   "cell_type": "markdown",
   "id": "8a419b27-d45d-4f0b-897b-ad479d44af0d",
   "metadata": {},
   "source": [
    "<h2>Insight 25:Yes, as the number of vehicles increases, average casualties rise.</h2>"
   ]
  },
  {
   "cell_type": "code",
   "execution_count": null,
   "id": "4cbbdd39-d103-4845-a2ae-f9c4ddf998a2",
   "metadata": {},
   "outputs": [],
   "source": []
  },
  {
   "cell_type": "code",
   "execution_count": null,
   "id": "073d3f5f-affd-440b-8764-100fcd7bdfe9",
   "metadata": {},
   "outputs": [],
   "source": []
  }
 ],
 "metadata": {
  "kernelspec": {
   "display_name": "Python 3 (ipykernel)",
   "language": "python",
   "name": "python3"
  },
  "language_info": {
   "codemirror_mode": {
    "name": "ipython",
    "version": 3
   },
   "file_extension": ".py",
   "mimetype": "text/x-python",
   "name": "python",
   "nbconvert_exporter": "python",
   "pygments_lexer": "ipython3",
   "version": "3.13.7"
  }
 },
 "nbformat": 4,
 "nbformat_minor": 5
}
