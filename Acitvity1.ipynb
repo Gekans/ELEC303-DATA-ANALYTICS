{
 "cells": [
  {
   "cell_type": "markdown",
   "id": "b2899318-7cf8-4127-929c-c2d6af00df28",
   "metadata": {},
   "source": [
    "<h1>ACTIVITY 1: PALMER PENGUINS DATA ANALYTICS PROJECT </h1>\n",
    "<hr>"
   ]
  },
  {
   "cell_type": "markdown",
   "id": "a96609e8-6b83-4f7d-8716-4ac5179f1809",
   "metadata": {},
   "source": [
    "<h4>ANALYST: JUSTINE DESOACIDO</h4>"
   ]
  },
  {
   "cell_type": "code",
   "execution_count": 51,
   "id": "8b00814a-d3d4-4321-98c2-2a161985465c",
   "metadata": {},
   "outputs": [],
   "source": [
    "#libraries"
   ]
  },
  {
   "cell_type": "code",
   "execution_count": 52,
   "id": "890ff58f-6557-4e06-ae3c-bda6897d538f",
   "metadata": {},
   "outputs": [],
   "source": [
    "import numpy as np\n",
    "import pandas as pd\n",
    "import warnings\n",
    "warnings.filterwarnings('ignore')\n",
    "import matplotlib.pyplot as plt"
   ]
  },
  {
   "cell_type": "code",
   "execution_count": 53,
   "id": "4a41ada6-f2c5-4470-bfb8-f3023a9b8d72",
   "metadata": {},
   "outputs": [],
   "source": [
    "bird = pd.read_csv ('datasets\\\\penguins.csv')"
   ]
  },
  {
   "cell_type": "code",
   "execution_count": 54,
   "id": "6489fe87-3bf9-4106-be48-832b7b28301b",
   "metadata": {},
   "outputs": [
    {
     "data": {
      "text/html": [
       "<div>\n",
       "<style scoped>\n",
       "    .dataframe tbody tr th:only-of-type {\n",
       "        vertical-align: middle;\n",
       "    }\n",
       "\n",
       "    .dataframe tbody tr th {\n",
       "        vertical-align: top;\n",
       "    }\n",
       "\n",
       "    .dataframe thead th {\n",
       "        text-align: right;\n",
       "    }\n",
       "</style>\n",
       "<table border=\"1\" class=\"dataframe\">\n",
       "  <thead>\n",
       "    <tr style=\"text-align: right;\">\n",
       "      <th></th>\n",
       "      <th>species</th>\n",
       "      <th>island</th>\n",
       "      <th>bill_length_mm</th>\n",
       "      <th>bill_depth_mm</th>\n",
       "      <th>flipper_length_mm</th>\n",
       "      <th>body_mass_g</th>\n",
       "      <th>sex</th>\n",
       "      <th>year</th>\n",
       "    </tr>\n",
       "  </thead>\n",
       "  <tbody>\n",
       "    <tr>\n",
       "      <th>0</th>\n",
       "      <td>Adelie</td>\n",
       "      <td>Torgersen</td>\n",
       "      <td>39.1</td>\n",
       "      <td>18.7</td>\n",
       "      <td>181.0</td>\n",
       "      <td>3750.0</td>\n",
       "      <td>male</td>\n",
       "      <td>2007</td>\n",
       "    </tr>\n",
       "    <tr>\n",
       "      <th>1</th>\n",
       "      <td>Adelie</td>\n",
       "      <td>Torgersen</td>\n",
       "      <td>39.5</td>\n",
       "      <td>17.4</td>\n",
       "      <td>186.0</td>\n",
       "      <td>3800.0</td>\n",
       "      <td>female</td>\n",
       "      <td>2007</td>\n",
       "    </tr>\n",
       "    <tr>\n",
       "      <th>2</th>\n",
       "      <td>Adelie</td>\n",
       "      <td>Torgersen</td>\n",
       "      <td>40.3</td>\n",
       "      <td>18.0</td>\n",
       "      <td>195.0</td>\n",
       "      <td>3250.0</td>\n",
       "      <td>female</td>\n",
       "      <td>2007</td>\n",
       "    </tr>\n",
       "    <tr>\n",
       "      <th>3</th>\n",
       "      <td>Adelie</td>\n",
       "      <td>Torgersen</td>\n",
       "      <td>NaN</td>\n",
       "      <td>NaN</td>\n",
       "      <td>NaN</td>\n",
       "      <td>NaN</td>\n",
       "      <td>NaN</td>\n",
       "      <td>2007</td>\n",
       "    </tr>\n",
       "    <tr>\n",
       "      <th>4</th>\n",
       "      <td>Adelie</td>\n",
       "      <td>Torgersen</td>\n",
       "      <td>36.7</td>\n",
       "      <td>19.3</td>\n",
       "      <td>193.0</td>\n",
       "      <td>3450.0</td>\n",
       "      <td>female</td>\n",
       "      <td>2007</td>\n",
       "    </tr>\n",
       "    <tr>\n",
       "      <th>...</th>\n",
       "      <td>...</td>\n",
       "      <td>...</td>\n",
       "      <td>...</td>\n",
       "      <td>...</td>\n",
       "      <td>...</td>\n",
       "      <td>...</td>\n",
       "      <td>...</td>\n",
       "      <td>...</td>\n",
       "    </tr>\n",
       "    <tr>\n",
       "      <th>339</th>\n",
       "      <td>Chinstrap</td>\n",
       "      <td>Dream</td>\n",
       "      <td>55.8</td>\n",
       "      <td>19.8</td>\n",
       "      <td>207.0</td>\n",
       "      <td>4000.0</td>\n",
       "      <td>male</td>\n",
       "      <td>2009</td>\n",
       "    </tr>\n",
       "    <tr>\n",
       "      <th>340</th>\n",
       "      <td>Chinstrap</td>\n",
       "      <td>Dream</td>\n",
       "      <td>43.5</td>\n",
       "      <td>18.1</td>\n",
       "      <td>202.0</td>\n",
       "      <td>3400.0</td>\n",
       "      <td>female</td>\n",
       "      <td>2009</td>\n",
       "    </tr>\n",
       "    <tr>\n",
       "      <th>341</th>\n",
       "      <td>Chinstrap</td>\n",
       "      <td>Dream</td>\n",
       "      <td>49.6</td>\n",
       "      <td>18.2</td>\n",
       "      <td>193.0</td>\n",
       "      <td>3775.0</td>\n",
       "      <td>male</td>\n",
       "      <td>2009</td>\n",
       "    </tr>\n",
       "    <tr>\n",
       "      <th>342</th>\n",
       "      <td>Chinstrap</td>\n",
       "      <td>Dream</td>\n",
       "      <td>50.8</td>\n",
       "      <td>19.0</td>\n",
       "      <td>210.0</td>\n",
       "      <td>4100.0</td>\n",
       "      <td>male</td>\n",
       "      <td>2009</td>\n",
       "    </tr>\n",
       "    <tr>\n",
       "      <th>343</th>\n",
       "      <td>Chinstrap</td>\n",
       "      <td>Dream</td>\n",
       "      <td>50.2</td>\n",
       "      <td>18.7</td>\n",
       "      <td>198.0</td>\n",
       "      <td>3775.0</td>\n",
       "      <td>female</td>\n",
       "      <td>2009</td>\n",
       "    </tr>\n",
       "  </tbody>\n",
       "</table>\n",
       "<p>344 rows × 8 columns</p>\n",
       "</div>"
      ],
      "text/plain": [
       "       species     island  bill_length_mm  bill_depth_mm  flipper_length_mm  \\\n",
       "0       Adelie  Torgersen            39.1           18.7              181.0   \n",
       "1       Adelie  Torgersen            39.5           17.4              186.0   \n",
       "2       Adelie  Torgersen            40.3           18.0              195.0   \n",
       "3       Adelie  Torgersen             NaN            NaN                NaN   \n",
       "4       Adelie  Torgersen            36.7           19.3              193.0   \n",
       "..         ...        ...             ...            ...                ...   \n",
       "339  Chinstrap      Dream            55.8           19.8              207.0   \n",
       "340  Chinstrap      Dream            43.5           18.1              202.0   \n",
       "341  Chinstrap      Dream            49.6           18.2              193.0   \n",
       "342  Chinstrap      Dream            50.8           19.0              210.0   \n",
       "343  Chinstrap      Dream            50.2           18.7              198.0   \n",
       "\n",
       "     body_mass_g     sex  year  \n",
       "0         3750.0    male  2007  \n",
       "1         3800.0  female  2007  \n",
       "2         3250.0  female  2007  \n",
       "3            NaN     NaN  2007  \n",
       "4         3450.0  female  2007  \n",
       "..           ...     ...   ...  \n",
       "339       4000.0    male  2009  \n",
       "340       3400.0  female  2009  \n",
       "341       3775.0    male  2009  \n",
       "342       4100.0    male  2009  \n",
       "343       3775.0  female  2009  \n",
       "\n",
       "[344 rows x 8 columns]"
      ]
     },
     "execution_count": 54,
     "metadata": {},
     "output_type": "execute_result"
    }
   ],
   "source": [
    "bird"
   ]
  },
  {
   "cell_type": "markdown",
   "id": "63b39f11-e14e-49ce-8507-f753241a7105",
   "metadata": {},
   "source": [
    "<h1> DESCRIPTIVE ANALYTICS </h1>"
   ]
  },
  {
   "cell_type": "code",
   "execution_count": 55,
   "id": "4c18b093-9a8f-4af2-b219-129bd3ed03af",
   "metadata": {},
   "outputs": [
    {
     "data": {
      "text/html": [
       "<div>\n",
       "<style scoped>\n",
       "    .dataframe tbody tr th:only-of-type {\n",
       "        vertical-align: middle;\n",
       "    }\n",
       "\n",
       "    .dataframe tbody tr th {\n",
       "        vertical-align: top;\n",
       "    }\n",
       "\n",
       "    .dataframe thead th {\n",
       "        text-align: right;\n",
       "    }\n",
       "</style>\n",
       "<table border=\"1\" class=\"dataframe\">\n",
       "  <thead>\n",
       "    <tr style=\"text-align: right;\">\n",
       "      <th></th>\n",
       "      <th>bill_length_mm</th>\n",
       "      <th>bill_depth_mm</th>\n",
       "      <th>flipper_length_mm</th>\n",
       "      <th>body_mass_g</th>\n",
       "      <th>year</th>\n",
       "    </tr>\n",
       "  </thead>\n",
       "  <tbody>\n",
       "    <tr>\n",
       "      <th>count</th>\n",
       "      <td>342.000000</td>\n",
       "      <td>342.000000</td>\n",
       "      <td>342.000000</td>\n",
       "      <td>342.000000</td>\n",
       "      <td>344.000000</td>\n",
       "    </tr>\n",
       "    <tr>\n",
       "      <th>mean</th>\n",
       "      <td>43.921930</td>\n",
       "      <td>17.151170</td>\n",
       "      <td>200.915205</td>\n",
       "      <td>4201.754386</td>\n",
       "      <td>2008.029070</td>\n",
       "    </tr>\n",
       "    <tr>\n",
       "      <th>std</th>\n",
       "      <td>5.459584</td>\n",
       "      <td>1.974793</td>\n",
       "      <td>14.061714</td>\n",
       "      <td>801.954536</td>\n",
       "      <td>0.818356</td>\n",
       "    </tr>\n",
       "    <tr>\n",
       "      <th>min</th>\n",
       "      <td>32.100000</td>\n",
       "      <td>13.100000</td>\n",
       "      <td>172.000000</td>\n",
       "      <td>2700.000000</td>\n",
       "      <td>2007.000000</td>\n",
       "    </tr>\n",
       "    <tr>\n",
       "      <th>25%</th>\n",
       "      <td>39.225000</td>\n",
       "      <td>15.600000</td>\n",
       "      <td>190.000000</td>\n",
       "      <td>3550.000000</td>\n",
       "      <td>2007.000000</td>\n",
       "    </tr>\n",
       "    <tr>\n",
       "      <th>50%</th>\n",
       "      <td>44.450000</td>\n",
       "      <td>17.300000</td>\n",
       "      <td>197.000000</td>\n",
       "      <td>4050.000000</td>\n",
       "      <td>2008.000000</td>\n",
       "    </tr>\n",
       "    <tr>\n",
       "      <th>75%</th>\n",
       "      <td>48.500000</td>\n",
       "      <td>18.700000</td>\n",
       "      <td>213.000000</td>\n",
       "      <td>4750.000000</td>\n",
       "      <td>2009.000000</td>\n",
       "    </tr>\n",
       "    <tr>\n",
       "      <th>max</th>\n",
       "      <td>59.600000</td>\n",
       "      <td>21.500000</td>\n",
       "      <td>231.000000</td>\n",
       "      <td>6300.000000</td>\n",
       "      <td>2009.000000</td>\n",
       "    </tr>\n",
       "  </tbody>\n",
       "</table>\n",
       "</div>"
      ],
      "text/plain": [
       "       bill_length_mm  bill_depth_mm  flipper_length_mm  body_mass_g  \\\n",
       "count      342.000000     342.000000         342.000000   342.000000   \n",
       "mean        43.921930      17.151170         200.915205  4201.754386   \n",
       "std          5.459584       1.974793          14.061714   801.954536   \n",
       "min         32.100000      13.100000         172.000000  2700.000000   \n",
       "25%         39.225000      15.600000         190.000000  3550.000000   \n",
       "50%         44.450000      17.300000         197.000000  4050.000000   \n",
       "75%         48.500000      18.700000         213.000000  4750.000000   \n",
       "max         59.600000      21.500000         231.000000  6300.000000   \n",
       "\n",
       "              year  \n",
       "count   344.000000  \n",
       "mean   2008.029070  \n",
       "std       0.818356  \n",
       "min    2007.000000  \n",
       "25%    2007.000000  \n",
       "50%    2008.000000  \n",
       "75%    2009.000000  \n",
       "max    2009.000000  "
      ]
     },
     "execution_count": 55,
     "metadata": {},
     "output_type": "execute_result"
    }
   ],
   "source": [
    "bird.describe()"
   ]
  },
  {
   "cell_type": "code",
   "execution_count": 56,
   "id": "a5c7eb9a-d176-4ef0-9c85-d48b4ab38b5b",
   "metadata": {},
   "outputs": [
    {
     "data": {
      "text/html": [
       "<div>\n",
       "<style scoped>\n",
       "    .dataframe tbody tr th:only-of-type {\n",
       "        vertical-align: middle;\n",
       "    }\n",
       "\n",
       "    .dataframe tbody tr th {\n",
       "        vertical-align: top;\n",
       "    }\n",
       "\n",
       "    .dataframe thead th {\n",
       "        text-align: right;\n",
       "    }\n",
       "</style>\n",
       "<table border=\"1\" class=\"dataframe\">\n",
       "  <thead>\n",
       "    <tr style=\"text-align: right;\">\n",
       "      <th></th>\n",
       "      <th>count</th>\n",
       "      <th>mean</th>\n",
       "      <th>std</th>\n",
       "      <th>min</th>\n",
       "      <th>25%</th>\n",
       "      <th>50%</th>\n",
       "      <th>75%</th>\n",
       "      <th>max</th>\n",
       "    </tr>\n",
       "  </thead>\n",
       "  <tbody>\n",
       "    <tr>\n",
       "      <th>bill_length_mm</th>\n",
       "      <td>342.0</td>\n",
       "      <td>43.921930</td>\n",
       "      <td>5.459584</td>\n",
       "      <td>32.1</td>\n",
       "      <td>39.225</td>\n",
       "      <td>44.45</td>\n",
       "      <td>48.5</td>\n",
       "      <td>59.6</td>\n",
       "    </tr>\n",
       "    <tr>\n",
       "      <th>bill_depth_mm</th>\n",
       "      <td>342.0</td>\n",
       "      <td>17.151170</td>\n",
       "      <td>1.974793</td>\n",
       "      <td>13.1</td>\n",
       "      <td>15.600</td>\n",
       "      <td>17.30</td>\n",
       "      <td>18.7</td>\n",
       "      <td>21.5</td>\n",
       "    </tr>\n",
       "    <tr>\n",
       "      <th>flipper_length_mm</th>\n",
       "      <td>342.0</td>\n",
       "      <td>200.915205</td>\n",
       "      <td>14.061714</td>\n",
       "      <td>172.0</td>\n",
       "      <td>190.000</td>\n",
       "      <td>197.00</td>\n",
       "      <td>213.0</td>\n",
       "      <td>231.0</td>\n",
       "    </tr>\n",
       "    <tr>\n",
       "      <th>body_mass_g</th>\n",
       "      <td>342.0</td>\n",
       "      <td>4201.754386</td>\n",
       "      <td>801.954536</td>\n",
       "      <td>2700.0</td>\n",
       "      <td>3550.000</td>\n",
       "      <td>4050.00</td>\n",
       "      <td>4750.0</td>\n",
       "      <td>6300.0</td>\n",
       "    </tr>\n",
       "    <tr>\n",
       "      <th>year</th>\n",
       "      <td>344.0</td>\n",
       "      <td>2008.029070</td>\n",
       "      <td>0.818356</td>\n",
       "      <td>2007.0</td>\n",
       "      <td>2007.000</td>\n",
       "      <td>2008.00</td>\n",
       "      <td>2009.0</td>\n",
       "      <td>2009.0</td>\n",
       "    </tr>\n",
       "  </tbody>\n",
       "</table>\n",
       "</div>"
      ],
      "text/plain": [
       "                   count         mean         std     min       25%      50%  \\\n",
       "bill_length_mm     342.0    43.921930    5.459584    32.1    39.225    44.45   \n",
       "bill_depth_mm      342.0    17.151170    1.974793    13.1    15.600    17.30   \n",
       "flipper_length_mm  342.0   200.915205   14.061714   172.0   190.000   197.00   \n",
       "body_mass_g        342.0  4201.754386  801.954536  2700.0  3550.000  4050.00   \n",
       "year               344.0  2008.029070    0.818356  2007.0  2007.000  2008.00   \n",
       "\n",
       "                      75%     max  \n",
       "bill_length_mm       48.5    59.6  \n",
       "bill_depth_mm        18.7    21.5  \n",
       "flipper_length_mm   213.0   231.0  \n",
       "body_mass_g        4750.0  6300.0  \n",
       "year               2009.0  2009.0  "
      ]
     },
     "execution_count": 56,
     "metadata": {},
     "output_type": "execute_result"
    }
   ],
   "source": [
    "bird.describe().T"
   ]
  },
  {
   "cell_type": "markdown",
   "id": "680ae0d0-32f8-4e3d-85cc-89973c65e60a",
   "metadata": {},
   "source": [
    "<h1>FILTERING A COLUMN/DATA</h1>"
   ]
  },
  {
   "cell_type": "code",
   "execution_count": 57,
   "id": "1de5094e-b231-4227-806b-ab4b7f7e8172",
   "metadata": {},
   "outputs": [
    {
     "data": {
      "text/plain": [
       "0         Adelie\n",
       "1         Adelie\n",
       "2         Adelie\n",
       "3         Adelie\n",
       "4         Adelie\n",
       "         ...    \n",
       "339    Chinstrap\n",
       "340    Chinstrap\n",
       "341    Chinstrap\n",
       "342    Chinstrap\n",
       "343    Chinstrap\n",
       "Name: species, Length: 344, dtype: object"
      ]
     },
     "execution_count": 57,
     "metadata": {},
     "output_type": "execute_result"
    }
   ],
   "source": [
    "bird['species']"
   ]
  },
  {
   "cell_type": "code",
   "execution_count": 58,
   "id": "bae2a2fb-e235-4c33-9db5-4d9e00624c84",
   "metadata": {},
   "outputs": [],
   "source": [
    "adelie_df = bird[bird[\"species\"]== 'Adelie']"
   ]
  },
  {
   "cell_type": "code",
   "execution_count": 59,
   "id": "388b175e-9b21-46cf-86d4-324e73d2a24a",
   "metadata": {},
   "outputs": [
    {
     "data": {
      "text/html": [
       "<div>\n",
       "<style scoped>\n",
       "    .dataframe tbody tr th:only-of-type {\n",
       "        vertical-align: middle;\n",
       "    }\n",
       "\n",
       "    .dataframe tbody tr th {\n",
       "        vertical-align: top;\n",
       "    }\n",
       "\n",
       "    .dataframe thead th {\n",
       "        text-align: right;\n",
       "    }\n",
       "</style>\n",
       "<table border=\"1\" class=\"dataframe\">\n",
       "  <thead>\n",
       "    <tr style=\"text-align: right;\">\n",
       "      <th></th>\n",
       "      <th>species</th>\n",
       "      <th>island</th>\n",
       "      <th>bill_length_mm</th>\n",
       "      <th>bill_depth_mm</th>\n",
       "      <th>flipper_length_mm</th>\n",
       "      <th>body_mass_g</th>\n",
       "      <th>sex</th>\n",
       "      <th>year</th>\n",
       "    </tr>\n",
       "  </thead>\n",
       "  <tbody>\n",
       "    <tr>\n",
       "      <th>0</th>\n",
       "      <td>Adelie</td>\n",
       "      <td>Torgersen</td>\n",
       "      <td>39.1</td>\n",
       "      <td>18.7</td>\n",
       "      <td>181.0</td>\n",
       "      <td>3750.0</td>\n",
       "      <td>male</td>\n",
       "      <td>2007</td>\n",
       "    </tr>\n",
       "    <tr>\n",
       "      <th>1</th>\n",
       "      <td>Adelie</td>\n",
       "      <td>Torgersen</td>\n",
       "      <td>39.5</td>\n",
       "      <td>17.4</td>\n",
       "      <td>186.0</td>\n",
       "      <td>3800.0</td>\n",
       "      <td>female</td>\n",
       "      <td>2007</td>\n",
       "    </tr>\n",
       "    <tr>\n",
       "      <th>2</th>\n",
       "      <td>Adelie</td>\n",
       "      <td>Torgersen</td>\n",
       "      <td>40.3</td>\n",
       "      <td>18.0</td>\n",
       "      <td>195.0</td>\n",
       "      <td>3250.0</td>\n",
       "      <td>female</td>\n",
       "      <td>2007</td>\n",
       "    </tr>\n",
       "    <tr>\n",
       "      <th>3</th>\n",
       "      <td>Adelie</td>\n",
       "      <td>Torgersen</td>\n",
       "      <td>NaN</td>\n",
       "      <td>NaN</td>\n",
       "      <td>NaN</td>\n",
       "      <td>NaN</td>\n",
       "      <td>NaN</td>\n",
       "      <td>2007</td>\n",
       "    </tr>\n",
       "    <tr>\n",
       "      <th>4</th>\n",
       "      <td>Adelie</td>\n",
       "      <td>Torgersen</td>\n",
       "      <td>36.7</td>\n",
       "      <td>19.3</td>\n",
       "      <td>193.0</td>\n",
       "      <td>3450.0</td>\n",
       "      <td>female</td>\n",
       "      <td>2007</td>\n",
       "    </tr>\n",
       "    <tr>\n",
       "      <th>...</th>\n",
       "      <td>...</td>\n",
       "      <td>...</td>\n",
       "      <td>...</td>\n",
       "      <td>...</td>\n",
       "      <td>...</td>\n",
       "      <td>...</td>\n",
       "      <td>...</td>\n",
       "      <td>...</td>\n",
       "    </tr>\n",
       "    <tr>\n",
       "      <th>147</th>\n",
       "      <td>Adelie</td>\n",
       "      <td>Dream</td>\n",
       "      <td>36.6</td>\n",
       "      <td>18.4</td>\n",
       "      <td>184.0</td>\n",
       "      <td>3475.0</td>\n",
       "      <td>female</td>\n",
       "      <td>2009</td>\n",
       "    </tr>\n",
       "    <tr>\n",
       "      <th>148</th>\n",
       "      <td>Adelie</td>\n",
       "      <td>Dream</td>\n",
       "      <td>36.0</td>\n",
       "      <td>17.8</td>\n",
       "      <td>195.0</td>\n",
       "      <td>3450.0</td>\n",
       "      <td>female</td>\n",
       "      <td>2009</td>\n",
       "    </tr>\n",
       "    <tr>\n",
       "      <th>149</th>\n",
       "      <td>Adelie</td>\n",
       "      <td>Dream</td>\n",
       "      <td>37.8</td>\n",
       "      <td>18.1</td>\n",
       "      <td>193.0</td>\n",
       "      <td>3750.0</td>\n",
       "      <td>male</td>\n",
       "      <td>2009</td>\n",
       "    </tr>\n",
       "    <tr>\n",
       "      <th>150</th>\n",
       "      <td>Adelie</td>\n",
       "      <td>Dream</td>\n",
       "      <td>36.0</td>\n",
       "      <td>17.1</td>\n",
       "      <td>187.0</td>\n",
       "      <td>3700.0</td>\n",
       "      <td>female</td>\n",
       "      <td>2009</td>\n",
       "    </tr>\n",
       "    <tr>\n",
       "      <th>151</th>\n",
       "      <td>Adelie</td>\n",
       "      <td>Dream</td>\n",
       "      <td>41.5</td>\n",
       "      <td>18.5</td>\n",
       "      <td>201.0</td>\n",
       "      <td>4000.0</td>\n",
       "      <td>male</td>\n",
       "      <td>2009</td>\n",
       "    </tr>\n",
       "  </tbody>\n",
       "</table>\n",
       "<p>152 rows × 8 columns</p>\n",
       "</div>"
      ],
      "text/plain": [
       "    species     island  bill_length_mm  bill_depth_mm  flipper_length_mm  \\\n",
       "0    Adelie  Torgersen            39.1           18.7              181.0   \n",
       "1    Adelie  Torgersen            39.5           17.4              186.0   \n",
       "2    Adelie  Torgersen            40.3           18.0              195.0   \n",
       "3    Adelie  Torgersen             NaN            NaN                NaN   \n",
       "4    Adelie  Torgersen            36.7           19.3              193.0   \n",
       "..      ...        ...             ...            ...                ...   \n",
       "147  Adelie      Dream            36.6           18.4              184.0   \n",
       "148  Adelie      Dream            36.0           17.8              195.0   \n",
       "149  Adelie      Dream            37.8           18.1              193.0   \n",
       "150  Adelie      Dream            36.0           17.1              187.0   \n",
       "151  Adelie      Dream            41.5           18.5              201.0   \n",
       "\n",
       "     body_mass_g     sex  year  \n",
       "0         3750.0    male  2007  \n",
       "1         3800.0  female  2007  \n",
       "2         3250.0  female  2007  \n",
       "3            NaN     NaN  2007  \n",
       "4         3450.0  female  2007  \n",
       "..           ...     ...   ...  \n",
       "147       3475.0  female  2009  \n",
       "148       3450.0  female  2009  \n",
       "149       3750.0    male  2009  \n",
       "150       3700.0  female  2009  \n",
       "151       4000.0    male  2009  \n",
       "\n",
       "[152 rows x 8 columns]"
      ]
     },
     "execution_count": 59,
     "metadata": {},
     "output_type": "execute_result"
    }
   ],
   "source": [
    "adelie_df"
   ]
  },
  {
   "cell_type": "code",
   "execution_count": 60,
   "id": "20c8546e-b0f5-48a6-9172-5eab76f81c57",
   "metadata": {},
   "outputs": [
    {
     "data": {
      "text/plain": [
       "3700.662251655629"
      ]
     },
     "execution_count": 60,
     "metadata": {},
     "output_type": "execute_result"
    }
   ],
   "source": [
    "adelie_df['body_mass_g'].mean()"
   ]
  },
  {
   "cell_type": "code",
   "execution_count": 61,
   "id": "7f334231-0469-4bd3-8753-cbc923a6fba7",
   "metadata": {},
   "outputs": [
    {
     "data": {
      "text/plain": [
       "species\n",
       "Adelie    152\n",
       "Name: count, dtype: int64"
      ]
     },
     "execution_count": 61,
     "metadata": {},
     "output_type": "execute_result"
    }
   ],
   "source": [
    "adelie_df['species'].value_counts()"
   ]
  },
  {
   "cell_type": "code",
   "execution_count": 62,
   "id": "765b022e-0a09-4092-983f-e45267304c4b",
   "metadata": {},
   "outputs": [],
   "source": [
    "adelie_dream_df = bird[(bird ['species'] == 'Adelie') & (bird['island'] == 'Dream')]"
   ]
  },
  {
   "cell_type": "markdown",
   "id": "6ef8e7f1-3a5d-44c3-bec8-3d0157603fea",
   "metadata": {},
   "source": [
    "<h1> CLEANING THE DATA FRAME</h1>"
   ]
  },
  {
   "cell_type": "code",
   "execution_count": 63,
   "id": "269b6a4e-c08a-4435-b12b-2de87760317a",
   "metadata": {},
   "outputs": [
    {
     "data": {
      "text/plain": [
       "species               0\n",
       "island                0\n",
       "bill_length_mm        2\n",
       "bill_depth_mm         2\n",
       "flipper_length_mm     2\n",
       "body_mass_g           2\n",
       "sex                  11\n",
       "year                  0\n",
       "dtype: int64"
      ]
     },
     "execution_count": 63,
     "metadata": {},
     "output_type": "execute_result"
    }
   ],
   "source": [
    "bird.isnull().sum()"
   ]
  },
  {
   "cell_type": "markdown",
   "id": "06cd4422-4a66-4d14-be9e-fe8124b00b04",
   "metadata": {},
   "source": [
    "<h1> WHAT TO DO WITH ALL THE \"NULL VALUES\" </h1>\n"
   ]
  },
  {
   "cell_type": "code",
   "execution_count": 64,
   "id": "7e1aaaa4-d4c8-49fb-83ab-41c482d7dfd1",
   "metadata": {},
   "outputs": [
    {
     "data": {
      "text/plain": [
       "43.9219298245614"
      ]
     },
     "execution_count": 64,
     "metadata": {},
     "output_type": "execute_result"
    }
   ],
   "source": [
    "bird['bill_length_mm'].mean()"
   ]
  },
  {
   "cell_type": "code",
   "execution_count": 65,
   "id": "ead8cf0b-5b82-4c61-b518-285401391eba",
   "metadata": {},
   "outputs": [
    {
     "data": {
      "text/plain": [
       "0    male\n",
       "Name: sex, dtype: object"
      ]
     },
     "execution_count": 65,
     "metadata": {},
     "output_type": "execute_result"
    }
   ],
   "source": [
    "bird['sex'].mode()\n"
   ]
  },
  {
   "cell_type": "markdown",
   "id": "1d02a90c-a2f2-484e-9335-c39539cc37f1",
   "metadata": {},
   "source": [
    "<h1> HOW TO FILL-UP NULL VALUES </h1>"
   ]
  },
  {
   "cell_type": "code",
   "execution_count": 66,
   "id": "271e5cfe-6972-4910-a245-9c68174cf2b3",
   "metadata": {},
   "outputs": [],
   "source": [
    "bird['bill_length_mm'] = bird['bill_length_mm'].fillna(bird['bill_length_mm'].mean())\n",
    "bird['bill_depth_mm'] = bird['bill_depth_mm'].fillna(bird['bill_depth_mm'].mean())\n",
    "bird['flipper_length_mm'] = bird['flipper_length_mm'].fillna(bird['flipper_length_mm'].mean())\n",
    "bird['body_mass_g'] = bird['body_mass_g'].fillna(bird['body_mass_g'].mean())"
   ]
  },
  {
   "cell_type": "code",
   "execution_count": 67,
   "id": "f44c7bb2-e17f-4da4-a5a1-897fc22f5111",
   "metadata": {},
   "outputs": [],
   "source": [
    "bird['sex'] = bird['sex'].fillna(bird['sex'].mode()[0])"
   ]
  },
  {
   "cell_type": "code",
   "execution_count": 68,
   "id": "96f4032b-2b82-467b-99c1-1045627495ff",
   "metadata": {},
   "outputs": [
    {
     "data": {
      "text/plain": [
       "species              0\n",
       "island               0\n",
       "bill_length_mm       0\n",
       "bill_depth_mm        0\n",
       "flipper_length_mm    0\n",
       "body_mass_g          0\n",
       "sex                  0\n",
       "year                 0\n",
       "dtype: int64"
      ]
     },
     "execution_count": 68,
     "metadata": {},
     "output_type": "execute_result"
    }
   ],
   "source": [
    "bird.isnull().sum()"
   ]
  },
  {
   "cell_type": "markdown",
   "id": "da370868-5b2e-4527-b426-afb6fdc26645",
   "metadata": {},
   "source": [
    "<h1> CHANGING DATA TYPES </h1>"
   ]
  },
  {
   "cell_type": "code",
   "execution_count": 69,
   "id": "02c9ab6c-798e-4bea-8952-893a467aa4e9",
   "metadata": {},
   "outputs": [],
   "source": [
    "bird['species'] = bird['species'].astype('category')\n",
    "bird['year'] = bird['year'].astype('category')\n",
    "bird['island'] = bird['island'].astype('category')\n",
    "bird['sex'] = bird['sex'].astype('category')"
   ]
  },
  {
   "cell_type": "code",
   "execution_count": 70,
   "id": "e00b93a4-f5ce-40f5-945d-c46b1a6c3ec3",
   "metadata": {},
   "outputs": [
    {
     "name": "stdout",
     "output_type": "stream",
     "text": [
      "<class 'pandas.core.frame.DataFrame'>\n",
      "RangeIndex: 344 entries, 0 to 343\n",
      "Data columns (total 8 columns):\n",
      " #   Column             Non-Null Count  Dtype   \n",
      "---  ------             --------------  -----   \n",
      " 0   species            344 non-null    category\n",
      " 1   island             344 non-null    category\n",
      " 2   bill_length_mm     344 non-null    float64 \n",
      " 3   bill_depth_mm      344 non-null    float64 \n",
      " 4   flipper_length_mm  344 non-null    float64 \n",
      " 5   body_mass_g        344 non-null    float64 \n",
      " 6   sex                344 non-null    category\n",
      " 7   year               344 non-null    category\n",
      "dtypes: category(4), float64(4)\n",
      "memory usage: 12.7 KB\n"
     ]
    }
   ],
   "source": [
    "bird.info()"
   ]
  },
  {
   "cell_type": "markdown",
   "id": "5f93df93-f2ba-422c-bebc-d9120901d21f",
   "metadata": {},
   "source": [
    "<h1> EXPLORATORY DATA ANALYSIS(EDA) </h1>"
   ]
  },
  {
   "cell_type": "code",
   "execution_count": 71,
   "id": "c00c3563-3a9f-478f-b4fa-2246b59002e1",
   "metadata": {},
   "outputs": [
    {
     "data": {
      "text/plain": [
       "4201.754385964912"
      ]
     },
     "execution_count": 71,
     "metadata": {},
     "output_type": "execute_result"
    }
   ],
   "source": [
    "bird['body_mass_g'].mean()"
   ]
  },
  {
   "cell_type": "code",
   "execution_count": 72,
   "id": "835f8a09-b0cf-495a-be1b-3369662ceb11",
   "metadata": {},
   "outputs": [
    {
     "data": {
      "text/plain": [
       "0       True\n",
       "1       True\n",
       "2       True\n",
       "3       True\n",
       "4       True\n",
       "       ...  \n",
       "339    False\n",
       "340    False\n",
       "341    False\n",
       "342    False\n",
       "343    False\n",
       "Name: species, Length: 344, dtype: bool"
      ]
     },
     "execution_count": 72,
     "metadata": {},
     "output_type": "execute_result"
    }
   ],
   "source": [
    "bird['species'] == 'Adelie'"
   ]
  },
  {
   "cell_type": "code",
   "execution_count": 73,
   "id": "b9cb60be-5a4c-4b1a-8be3-b372a8f56895",
   "metadata": {},
   "outputs": [],
   "source": [
    "adelie_df = bird['body_mass_g']"
   ]
  },
  {
   "cell_type": "code",
   "execution_count": 74,
   "id": "fcf8e9e5-b7b5-4656-adb5-bf55a7fc57b5",
   "metadata": {},
   "outputs": [
    {
     "data": {
      "text/plain": [
       "4201.754385964912"
      ]
     },
     "execution_count": 74,
     "metadata": {},
     "output_type": "execute_result"
    }
   ],
   "source": [
    "adelie_df.mean()"
   ]
  },
  {
   "cell_type": "code",
   "execution_count": 75,
   "id": "50218326-23c5-4022-ba4e-f180dcf6e5b9",
   "metadata": {},
   "outputs": [
    {
     "data": {
      "text/plain": [
       "3703.95891043398"
      ]
     },
     "execution_count": 75,
     "metadata": {},
     "output_type": "execute_result"
    }
   ],
   "source": [
    "bird[bird['species'] == 'Adelie']['body_mass_g'].mean()"
   ]
  },
  {
   "cell_type": "markdown",
   "id": "8bab065d-c0f9-41f8-bac5-3e85c920a232",
   "metadata": {},
   "source": [
    "<h3>1. What is the maximum 'flipper_length_mm' recorded for Adelie penguins?</h3>"
   ]
  },
  {
   "cell_type": "code",
   "execution_count": 76,
   "id": "620df0e5-5907-47cd-8abc-f4fb03d2d3f1",
   "metadata": {},
   "outputs": [],
   "source": [
    "max_flipper_adelie = bird[bird ['species'] == 'Adelie']['flipper_length_mm'].max()"
   ]
  },
  {
   "cell_type": "code",
   "execution_count": 77,
   "id": "db420980-3f7b-41e6-a390-791586e1ea19",
   "metadata": {},
   "outputs": [
    {
     "data": {
      "text/plain": [
       "210.0"
      ]
     },
     "execution_count": 77,
     "metadata": {},
     "output_type": "execute_result"
    }
   ],
   "source": [
    "max_flipper_adelie"
   ]
  },
  {
   "cell_type": "markdown",
   "id": "aab7030c-2bd3-4e13-9edf-cfc7f79c105c",
   "metadata": {},
   "source": [
    "<h3>Insights</h3>\n",
    "<h4>The maximum 'flipper_length_mm' recorded for Adelie penguins is 210.0</h4>"
   ]
  },
  {
   "cell_type": "markdown",
   "id": "65ea1ebe-8ddd-43c2-ac70-cd4be3e7e41d",
   "metadata": {},
   "source": [
    "<h3>2. Is there a correlation between bill length and bill depth? </h3>"
   ]
  },
  {
   "cell_type": "code",
   "execution_count": 78,
   "id": "ad7cfc67-415e-4fa4-94f1-0f2634a2b889",
   "metadata": {},
   "outputs": [],
   "source": [
    "corr = np.corrcoef(bird[\"bill_length_mm\"].dropna(), bird[\"bill_depth_mm\"].dropna()) [0,1]"
   ]
  },
  {
   "cell_type": "code",
   "execution_count": 79,
   "id": "8902eb9e-3321-4643-bcc4-b51d3e64e56f",
   "metadata": {},
   "outputs": [
    {
     "data": {
      "text/plain": [
       "-0.23505287035553282"
      ]
     },
     "execution_count": 79,
     "metadata": {},
     "output_type": "execute_result"
    }
   ],
   "source": [
    "corr"
   ]
  },
  {
   "cell_type": "markdown",
   "id": "498589c4-55fd-472e-b57e-b232f1b547b1",
   "metadata": {},
   "source": [
    "<h3>Insights</h3>\n",
    "<h4>correlation between bill length and bill depth is 0.23505287035553282 </h4>"
   ]
  },
  {
   "cell_type": "markdown",
   "id": "a9e8efb4-ddc8-4711-a356-0bb549da40d9",
   "metadata": {},
   "source": [
    "<h3>3. What is the range of bill depth(mm) values for Adelie penguins?</h3>"
   ]
  },
  {
   "cell_type": "code",
   "execution_count": 80,
   "id": "3a1e1f32-6e82-4e7a-a4a5-72eaf5971af7",
   "metadata": {},
   "outputs": [],
   "source": [
    "bill_depth_range_adelie = bird[bird['species'] == 'Adelie']['bill_depth_mm'].max() - bird[bird['species'] == 'Adelie']['bill_depth_mm'].min() "
   ]
  },
  {
   "cell_type": "code",
   "execution_count": 81,
   "id": "8bbbb5d2-502d-4680-bac5-f5a5d5c3fd2f",
   "metadata": {},
   "outputs": [
    {
     "data": {
      "text/plain": [
       "6.0"
      ]
     },
     "execution_count": 81,
     "metadata": {},
     "output_type": "execute_result"
    }
   ],
   "source": [
    "bill_depth_range_adelie "
   ]
  },
  {
   "cell_type": "markdown",
   "id": "321f1f90-0c3b-41d2-a297-2f16a228d35d",
   "metadata": {},
   "source": [
    "<h3>Insights</h3>\n",
    "<h4>The range of bill depth mm for Adelie 6.0 </h4>"
   ]
  },
  {
   "cell_type": "markdown",
   "id": "ef7532c4-e5c3-4924-b176-e3ff898f30d1",
   "metadata": {},
   "source": [
    "<h3>4. How does the 'mean_body_mass_g' differ between male and female chinstrap peguins? </h3>"
   ]
  },
  {
   "cell_type": "code",
   "execution_count": 82,
   "id": "2cfcf8c2-11ce-4161-affc-5e262070a932",
   "metadata": {},
   "outputs": [],
   "source": [
    "mean_bodymass_chinstrap = bird[bird['species'] == 'Chinstrap'].groupby('sex') ['body_mass_g'].mean()"
   ]
  },
  {
   "cell_type": "code",
   "execution_count": 83,
   "id": "52d73e18-abcb-422d-892f-8541effff854",
   "metadata": {},
   "outputs": [
    {
     "data": {
      "text/plain": [
       "sex\n",
       "female    3527.205882\n",
       "male      3938.970588\n",
       "Name: body_mass_g, dtype: float64"
      ]
     },
     "execution_count": 83,
     "metadata": {},
     "output_type": "execute_result"
    }
   ],
   "source": [
    "mean_bodymass_chinstrap"
   ]
  },
  {
   "cell_type": "markdown",
   "id": "3d5d1731-4033-4e26-9953-b056dab9078f",
   "metadata": {},
   "source": [
    "<h3>Insights</h3>\n",
    "<h4>Male chinstrap penguins has  3938.970588 mean body mass g </h4>\n",
    "<h4>Female chinstrap penguins has 3527.205882 mean body mass g </h4>"
   ]
  },
  {
   "cell_type": "markdown",
   "id": "1d8e775f-02ed-4fd6-9d01-b27f58adf96f",
   "metadata": {},
   "source": [
    "<h3>5. What is the correlation between flipper length and year? </h3>"
   ]
  },
  {
   "cell_type": "code",
   "execution_count": 84,
   "id": "464b79e9-33eb-4e63-bb55-2331d0b5650d",
   "metadata": {},
   "outputs": [],
   "source": [
    "corr_flipper_year = bird['flipper_length_mm'].corr(bird['year'])"
   ]
  },
  {
   "cell_type": "code",
   "execution_count": 85,
   "id": "733518f7-d73c-4f74-a074-935518946385",
   "metadata": {},
   "outputs": [
    {
     "data": {
      "text/plain": [
       "0.16893420971651854"
      ]
     },
     "execution_count": 85,
     "metadata": {},
     "output_type": "execute_result"
    }
   ],
   "source": [
    "corr_flipper_year "
   ]
  },
  {
   "cell_type": "markdown",
   "id": "16582935-c37c-4286-8406-5f4b19950f4a",
   "metadata": {},
   "source": [
    "<h3>Insights</h3>\n",
    "<h4>The correlation between flipper length and year is 0.16893420971651854 </h4>"
   ]
  },
  {
   "cell_type": "markdown",
   "id": "47d921a9-0c68-4c8d-ae7d-b613d5e0a025",
   "metadata": {},
   "source": [
    "<h3>6. How many penguins have bill length greater than 50 mm?</h3>"
   ]
  },
  {
   "cell_type": "code",
   "execution_count": 86,
   "id": "98113e1e-fcc6-49dc-801c-74c43e52f895",
   "metadata": {},
   "outputs": [],
   "source": [
    "count_bill_gt50 = bird[bird['bill_length_mm'] > 50].shape[0]\n"
   ]
  },
  {
   "cell_type": "code",
   "execution_count": 87,
   "id": "037a581b-c2fc-47fa-bd27-a9f30e4326ac",
   "metadata": {},
   "outputs": [
    {
     "data": {
      "text/plain": [
       "52"
      ]
     },
     "execution_count": 87,
     "metadata": {},
     "output_type": "execute_result"
    }
   ],
   "source": [
    "count_bill_gt50"
   ]
  },
  {
   "cell_type": "markdown",
   "id": "8d6599c0-7df8-4b32-af36-d2431cb6bd4d",
   "metadata": {},
   "source": [
    "<h3>Insights</h3>\n",
    "<h4>There are 52 penguins has the bill length greater than 50mm</h4>"
   ]
  },
  {
   "cell_type": "markdown",
   "id": "57f0cab4-74af-4b05-9cbc-751846d2f097",
   "metadata": {},
   "source": [
    "<h3>7. Which sex (male or female) has the highest average body mass ?</h3>"
   ]
  },
  {
   "cell_type": "code",
   "execution_count": 88,
   "id": "97ec7ad9-474f-4b37-81d8-609798c51f5f",
   "metadata": {},
   "outputs": [],
   "source": [
    "id = bird.groupby(\"sex\")['body_mass_g'].mean().idxmax()"
   ]
  },
  {
   "cell_type": "code",
   "execution_count": 89,
   "id": "038ed9e1-6701-4028-9c7d-52be65471086",
   "metadata": {},
   "outputs": [
    {
     "data": {
      "text/plain": [
       "'male'"
      ]
     },
     "execution_count": 89,
     "metadata": {},
     "output_type": "execute_result"
    }
   ],
   "source": [
    "id"
   ]
  },
  {
   "cell_type": "markdown",
   "id": "e0eb6a24-6b17-4f73-bcb8-433b727bbe38",
   "metadata": {},
   "source": [
    "<h3>Insights</h3>\n",
    "<h4>Male has the highest average body mass</h4>"
   ]
  },
  {
   "cell_type": "markdown",
   "id": "8739655f-54c8-4d45-87cf-584cadebf373",
   "metadata": {},
   "source": [
    "<h3>8. What is the avergae bill depth for penguins from biscoe island?</h3>"
   ]
  },
  {
   "cell_type": "code",
   "execution_count": 90,
   "id": "e1d5e2a4-6cf9-4920-bccc-bc1275ed7cd8",
   "metadata": {
    "scrolled": true
   },
   "outputs": [],
   "source": [
    "avg_bill_depth_biscoe = bird[bird['island'] == 'Biscoe']['bill_depth_mm'].mean()"
   ]
  },
  {
   "cell_type": "code",
   "execution_count": 91,
   "id": "21c8230a-49f6-44cf-9d0b-eb584d851a74",
   "metadata": {},
   "outputs": [
    {
     "data": {
      "text/plain": [
       "15.882447438039543"
      ]
     },
     "execution_count": 91,
     "metadata": {},
     "output_type": "execute_result"
    }
   ],
   "source": [
    "avg_bill_depth_biscoe"
   ]
  },
  {
   "cell_type": "markdown",
   "id": "1c32af0b-dc59-47ac-8182-17e3ef9fa9bb",
   "metadata": {},
   "source": [
    "<h3>Insights</h3>\n",
    "<h4>The average bill depth for penguins from  biscoe island is 15.882447438039543 </h4>"
   ]
  },
  {
   "cell_type": "markdown",
   "id": "a249790c-b886-4a02-ac28-5dfe96d7cdfb",
   "metadata": {},
   "source": [
    "<h3>9. What is the average bill length for each island?</h3>"
   ]
  },
  {
   "cell_type": "code",
   "execution_count": 92,
   "id": "b768ae8b-198f-43b7-a988-76d88503d77c",
   "metadata": {},
   "outputs": [],
   "source": [
    "avg_bill_length_by_island = bird.groupby(\"island\")[\"bill_length_mm\"].mean()"
   ]
  },
  {
   "cell_type": "code",
   "execution_count": 93,
   "id": "033cc241-4f7a-4371-837d-5088ef571f61",
   "metadata": {},
   "outputs": [
    {
     "data": {
      "text/plain": [
       "island\n",
       "Biscoe       45.249535\n",
       "Dream        44.167742\n",
       "Torgersen    39.046576\n",
       "Name: bill_length_mm, dtype: float64"
      ]
     },
     "execution_count": 93,
     "metadata": {},
     "output_type": "execute_result"
    }
   ],
   "source": [
    "avg_bill_length_by_island"
   ]
  },
  {
   "cell_type": "markdown",
   "id": "8a584db3-ea79-4462-8c7e-3308d4a9cf71",
   "metadata": {},
   "source": [
    "<h3>Insights</h3>\n",
    "<h4>The average bill length for each island are Biscoe: 45.249535, \n",
    "Drea:m 44.16774, \r\n",
    "Torgers:   39.0465 76</h4>"
   ]
  },
  {
   "cell_type": "markdown",
   "id": "b4d5828b-824c-4f1b-b325-0205d974db5e",
   "metadata": {},
   "source": [
    "<h3>10. On which island do we find the smallest penguin? </h3>"
   ]
  },
  {
   "cell_type": "code",
   "execution_count": 94,
   "id": "b18f483a-c93f-4dec-9591-378dd6f37c54",
   "metadata": {},
   "outputs": [],
   "source": [
    "island_smallest_penguin = bird.loc[bird['body_mass_g'].idxmin(),'island'] "
   ]
  },
  {
   "cell_type": "code",
   "execution_count": 95,
   "id": "907fc9df-adc2-43f4-be84-fc2711efe84a",
   "metadata": {},
   "outputs": [
    {
     "data": {
      "text/plain": [
       "'Dream'"
      ]
     },
     "execution_count": 95,
     "metadata": {},
     "output_type": "execute_result"
    }
   ],
   "source": [
    "island_smallest_penguin"
   ]
  },
  {
   "cell_type": "markdown",
   "id": "f1cf5a24-b7cc-42bf-8239-d5ce85834623",
   "metadata": {},
   "source": [
    "<h3>Insights</h3>\n",
    "<h4>We find the smallest penguin on Dream Island</h4>"
   ]
  },
  {
   "cell_type": "markdown",
   "id": "5e4e4ed1-b078-4ae3-a8b7-c57718231720",
   "metadata": {},
   "source": [
    "<h3>11. What is the average body mass of the penguins for each year?</h3>"
   ]
  },
  {
   "cell_type": "code",
   "execution_count": 96,
   "id": "ef841374-9680-4108-bca9-ac20451ed779",
   "metadata": {},
   "outputs": [],
   "source": [
    "avg_body_mass_year = bird.groupby(\"year\")[\"body_mass_g\"].mean()\n"
   ]
  },
  {
   "cell_type": "code",
   "execution_count": 97,
   "id": "6af28d2b-f510-43e9-aebd-1fb528649620",
   "metadata": {},
   "outputs": [
    {
     "data": {
      "text/plain": [
       "year\n",
       "2007    4125.243222\n",
       "2008    4266.666667\n",
       "2009    4210.222953\n",
       "Name: body_mass_g, dtype: float64"
      ]
     },
     "execution_count": 97,
     "metadata": {},
     "output_type": "execute_result"
    }
   ],
   "source": [
    "avg_body_mass_year"
   ]
  },
  {
   "cell_type": "markdown",
   "id": "6e5cae6a-654d-412c-bffc-1ce5aaa13855",
   "metadata": {},
   "source": [
    "<h3>Insights</h3>\n",
    "<h4>The average body mass of the penguins for each year 2007: 4125.243222, 2008: 4266.666667, 2009: 4210.222953</h4>"
   ]
  },
  {
   "cell_type": "markdown",
   "id": "62285cb0-1363-4229-8b9d-00f96a475cc5",
   "metadata": {},
   "source": [
    "<h3>12. What is the median flipper length for male penguins of the Adelie species?</h3>"
   ]
  },
  {
   "cell_type": "code",
   "execution_count": 98,
   "id": "55c48f4a-cbfc-4e15-b29b-f1788b17a5e3",
   "metadata": {},
   "outputs": [],
   "source": [
    "adelie_male_flipper_median = bird[(bird['species'] == 'Adelie') & (bird['sex'] == 'male')][\"flipper_length_mm\"].median()\n"
   ]
  },
  {
   "cell_type": "code",
   "execution_count": 99,
   "id": "d44fc945-7c77-4cac-8e87-8b7e5f0c97a5",
   "metadata": {},
   "outputs": [
    {
     "data": {
      "text/plain": [
       "192.0"
      ]
     },
     "execution_count": 99,
     "metadata": {},
     "output_type": "execute_result"
    }
   ],
   "source": [
    "adelie_male_flipper_median"
   ]
  },
  {
   "cell_type": "markdown",
   "id": "01cff97e-9306-4257-9157-9704cb216c6f",
   "metadata": {},
   "source": [
    "<h3>Insights</h3>\n",
    "<h4>The median flipper length for male penguins of the Adelie species is 192 </h4>"
   ]
  },
  {
   "cell_type": "code",
   "execution_count": null,
   "id": "40686712-db61-44a9-9798-73be3b40eb3e",
   "metadata": {},
   "outputs": [],
   "source": []
  }
 ],
 "metadata": {
  "kernelspec": {
   "display_name": "Python 3 (ipykernel)",
   "language": "python",
   "name": "python3"
  },
  "language_info": {
   "codemirror_mode": {
    "name": "ipython",
    "version": 3
   },
   "file_extension": ".py",
   "mimetype": "text/x-python",
   "name": "python",
   "nbconvert_exporter": "python",
   "pygments_lexer": "ipython3",
   "version": "3.11.3"
  }
 },
 "nbformat": 4,
 "nbformat_minor": 5
}
